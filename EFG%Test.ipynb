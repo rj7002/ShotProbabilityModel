{
 "cells": [
  {
   "cell_type": "code",
   "execution_count": 1,
   "id": "bb263e95",
   "metadata": {},
   "outputs": [],
   "source": [
    "import pandas as pd\n",
    "import matplotlib.pyplot as plt\n",
    "import seaborn as sns\n",
    "import numpy as np\n",
    "import requests\n",
    "import json\n",
    "import sqlite3"
   ]
  },
  {
   "cell_type": "code",
   "execution_count": 2,
   "id": "4cbef256",
   "metadata": {},
   "outputs": [],
   "source": [
    "DB_PATH = '/Users/ryan/Desktop/ShotQuality/nbatracking2324'\n",
    "conn = sqlite3.connect(DB_PATH)"
   ]
  },
  {
   "cell_type": "code",
   "execution_count": 544,
   "id": "99e9627e",
   "metadata": {},
   "outputs": [],
   "source": [
    "df = pd.read_sql_query(\n",
    "    sql=\"SELECT * FROM testnba WHERE (action_type = '2pt' OR action_type = '3pt') AND shooter_name = court_player_name ORDER BY RANDOM() LIMIT 250000\",\n",
    "    con=conn\n",
    ")"
   ]
  },
  {
   "cell_type": "code",
   "execution_count": 545,
   "id": "3561a175",
   "metadata": {},
   "outputs": [
    {
     "data": {
      "text/plain": [
       "(227620, 57)"
      ]
     },
     "execution_count": 545,
     "metadata": {},
     "output_type": "execute_result"
    }
   ],
   "source": [
    "df.shape"
   ]
  },
  {
   "cell_type": "code",
   "execution_count": 546,
   "id": "befceb94",
   "metadata": {},
   "outputs": [
    {
     "data": {
      "text/plain": [
       "Index(['game_id', 'parent_play_id', 'play_id', 'team_id', 'shooter_id',\n",
       "       'period', 'minutes', 'seconds', 'made', 'action_type',\n",
       "       'play_descriptors', 'shot_x', 'shot_y', 'contest_score', 'spacing',\n",
       "       'feature_store', 'feature_store_top_5', 'ev', 'shot_taking',\n",
       "       'shooting_bench_direction', 'created_at_x', 'updated_at_x',\n",
       "       'initial_updated_at', 'second_action', 'second_player_id', 'game_id_y',\n",
       "       'court_player_id', 'player_location_type', 'court_x', 'court_y',\n",
       "       'created_at_y', 'updated_at_y', 'possession_team', 'shooter_name',\n",
       "       'court_player_name', 'secondary_name', 'game_datetime_utc',\n",
       "       'competition_season_id', 'competition_id', 'home_team_id',\n",
       "       'away_team_id', 'home_score', 'away_score', 'home_dynamic_sq_score',\n",
       "       'away_dynamic_sq_score', 'home_initial_sq_score',\n",
       "       'away_initial_sq_score', 'is_neutral', 'game_status',\n",
       "       'game_descriptors', 'pbp_updated_at', 'created_at', 'updated_at',\n",
       "       'event_type', 'home_team_name', 'away_team_name', 'game_name'],\n",
       "      dtype='object')"
      ]
     },
     "execution_count": 546,
     "metadata": {},
     "output_type": "execute_result"
    }
   ],
   "source": [
    "df.columns"
   ]
  },
  {
   "cell_type": "code",
   "execution_count": 547,
   "id": "a48a24eb",
   "metadata": {},
   "outputs": [],
   "source": [
    "df2 = df.copy()"
   ]
  },
  {
   "cell_type": "code",
   "execution_count": 548,
   "id": "df01d974",
   "metadata": {},
   "outputs": [],
   "source": [
    "df2 = df.copy()\n",
    "df2['feature_store'] = df2['feature_store'].apply(json.loads)\n",
    "feature_df = df2['feature_store'].apply(pd.Series)\n",
    "df2 = pd.concat([df2, feature_df], axis=1)\n",
    "df2.drop(columns=['feature_store','feature_store_top_5','ev','shot_taking'], inplace=True)"
   ]
  },
  {
   "cell_type": "code",
   "execution_count": 550,
   "id": "14d1f086",
   "metadata": {},
   "outputs": [],
   "source": [
    "cols = ['created_at',\n",
    " 'updated_at',\n",
    " 'game_id',\n",
    " 'parent_play_id',\n",
    " 'play_id',\n",
    " 'team_id',\n",
    " 'shooter_name',\n",
    " 'period',\n",
    " 'minutes',\n",
    " 'seconds',\n",
    " 'made',\n",
    " 'action_type',\n",
    " 'play_descriptors',\n",
    " 'shot_x',\n",
    " 'shot_y',\n",
    " 'contest_score',\n",
    " 'spacing',\n",
    " 'shooting_bench_direction',\n",
    " 'initial_updated_at',\n",
    " 'Player Dunk Prior',\n",
    " 'Player Three Prior',\n",
    " 'Player Midrange Prior',\n",
    " 'Player Free Throw Prior',\n",
    " 'Player Standing Layup Prior',\n",
    " 'Defenders in Paint',\n",
    " 'Is Attacking Right',\n",
    " 'Closest Defender ID',\n",
    " 'Shooter in the Paint',\n",
    " 'Closest Defender Behind',\n",
    " 'Closest Defender Inside',\n",
    " 'Closest Defender Blocking',\n",
    " 'Player Driving Layup Prior',\n",
    " 'Shooter in Restricted Area',\n",
    " 'Closest Defender Dunk Prior',\n",
    " 'Closest Defender Three Prior',\n",
    " 'Second-Closest Defender Behind',\n",
    " 'Second-Closest Defender Inside',\n",
    " 'Angle with the Closest Defender',\n",
    " 'Closest Defender Midrange Prior',\n",
    " 'Harmonic Mean Defender Distance',\n",
    " 'Average Defender Distance (Feet)',\n",
    " 'Defenders in the Restricted Area',\n",
    " 'Number of Teammates in the Paint',\n",
    " 'Second-Closest Defender Blocking',\n",
    " 'Closest Defender Driving Layup Prior',\n",
    " 'Closest Defender Standing Layup Prior',\n",
    " 'Angle with the Second-Closest Defender',\n",
    " 'Height of the Closest Defender (Inches)',\n",
    " 'Weight of the Closest Defender (Pounds)',\n",
    " 'Number of Defenders Closer to the Basket',\n",
    " 'Number of Teammates in the Restricted Area',\n",
    " 'Cosine of the Angle with the Closest Defender',\n",
    " 'Height of the Second-Closest Defender (Inches)',\n",
    " 'Weight of the Second-Closest Defender (Pounds)',\n",
    " 'Cosine of the Angle with the Second-Closest Defender',\n",
    " \"Height of the Closest Defender's Bounding Box (Pixels)\",\n",
    " \"Height of the Third-Closest Defender's Bounding Box (Pixels)\",\n",
    " \"Height of the Second-Closest Defender's Bounding Box (Pixels)\",\n",
    " 'Difference in Bounding Box Height with the Closest Defender (Pixels)',\n",
    " 'Difference in Bounding Box Height with the Second-Closest Defender (Pixels)',\n",
    " 'Shot Distance (ft.)',\n",
    " 'Distance to the Closest Defender (Feet)',\n",
    " 'Distance to the Second-Closest Defender (Feet)']"
   ]
  },
  {
   "cell_type": "code",
   "execution_count": 551,
   "id": "be890947",
   "metadata": {},
   "outputs": [],
   "source": [
    "df2 = df2[cols]"
   ]
  },
  {
   "cell_type": "code",
   "execution_count": 552,
   "id": "f90a2836",
   "metadata": {},
   "outputs": [
    {
     "data": {
      "text/plain": [
       "(227620, 63)"
      ]
     },
     "execution_count": 552,
     "metadata": {},
     "output_type": "execute_result"
    }
   ],
   "source": [
    "df2.shape"
   ]
  },
  {
   "cell_type": "code",
   "execution_count": 553,
   "id": "b697b60b",
   "metadata": {},
   "outputs": [],
   "source": [
    "drop_cols = df2.columns[df2[df2['action_type'].isin(['2pt', '3pt'])].isna().sum()/len(df2[df2['action_type'].isin(['2pt', '3pt'])]) > 0.45]"
   ]
  },
  {
   "cell_type": "code",
   "execution_count": 554,
   "id": "7fab3eaa",
   "metadata": {},
   "outputs": [
    {
     "data": {
      "text/plain": [
       "Index(['shooting_bench_direction', 'initial_updated_at'], dtype='object')"
      ]
     },
     "execution_count": 554,
     "metadata": {},
     "output_type": "execute_result"
    }
   ],
   "source": [
    "drop_cols"
   ]
  },
  {
   "cell_type": "code",
   "execution_count": 555,
   "id": "66f6480a",
   "metadata": {},
   "outputs": [
    {
     "data": {
      "text/plain": [
       "action_type\n",
       "2pt    137642\n",
       "3pt     89978\n",
       "Name: count, dtype: int64"
      ]
     },
     "execution_count": 555,
     "metadata": {},
     "output_type": "execute_result"
    }
   ],
   "source": [
    "df2['action_type'].value_counts()"
   ]
  },
  {
   "cell_type": "code",
   "execution_count": 556,
   "id": "27ef3b7c",
   "metadata": {},
   "outputs": [
    {
     "data": {
      "text/plain": [
       "made\n",
       "0    119628\n",
       "1    107992\n",
       "Name: count, dtype: int64"
      ]
     },
     "execution_count": 556,
     "metadata": {},
     "output_type": "execute_result"
    }
   ],
   "source": [
    "df2['made'].value_counts()"
   ]
  },
  {
   "cell_type": "code",
   "execution_count": 557,
   "id": "5a13f009",
   "metadata": {},
   "outputs": [],
   "source": [
    "df2['pts'] = df2['action_type'].apply(lambda x: 2 if x == '2pt' else 3)"
   ]
  },
  {
   "cell_type": "code",
   "execution_count": 558,
   "id": "c5a7cbee",
   "metadata": {},
   "outputs": [
    {
     "name": "stdout",
     "output_type": "stream",
     "text": [
      "\n",
      "Column names: ['alley_oop' 'catch_and_shoot' 'dunk' 'floater' 'hook' 'in_paint'\n",
      " 'jumpshot' 'lay_up' 'off_cut' 'off_drive' 'pick_and_roll' 'post_up'\n",
      " 'pull_up' 'reverse' 'step_back' 'tip_in' 'transition' 'turnaround']\n"
     ]
    }
   ],
   "source": [
    "import pandas as pd\n",
    "import ast\n",
    "from sklearn.preprocessing import MultiLabelBinarizer\n",
    "\n",
    "df2['play_descriptors_list'] = df2['play_descriptors'].apply(ast.literal_eval)\n",
    "\n",
    "mlb = MultiLabelBinarizer()\n",
    "\n",
    "play_desc_encoded = mlb.fit_transform(df2['play_descriptors_list'])\n",
    "\n",
    "play_desc_df = pd.DataFrame(play_desc_encoded, columns=mlb.classes_)\n",
    "\n",
    "df2 = df2.join(play_desc_df)\n",
    "\n",
    "print(\"\\nColumn names:\", mlb.classes_)\n"
   ]
  },
  {
   "cell_type": "code",
   "execution_count": 559,
   "id": "6217f34b",
   "metadata": {},
   "outputs": [],
   "source": [
    "corr = df2.select_dtypes(include=['number']).corr()"
   ]
  },
  {
   "cell_type": "code",
   "execution_count": 576,
   "id": "59056448",
   "metadata": {},
   "outputs": [],
   "source": [
    "corrdf = pd.DataFrame(corr['made'])"
   ]
  },
  {
   "cell_type": "code",
   "execution_count": 577,
   "id": "193a85b8",
   "metadata": {},
   "outputs": [],
   "source": [
    "corrdf['abs_corr'] = corrdf['made'].abs()"
   ]
  },
  {
   "cell_type": "code",
   "execution_count": 579,
   "id": "aae8d32e",
   "metadata": {},
   "outputs": [
    {
     "data": {
      "text/html": [
       "<div>\n",
       "<style scoped>\n",
       "    .dataframe tbody tr th:only-of-type {\n",
       "        vertical-align: middle;\n",
       "    }\n",
       "\n",
       "    .dataframe tbody tr th {\n",
       "        vertical-align: top;\n",
       "    }\n",
       "\n",
       "    .dataframe thead th {\n",
       "        text-align: right;\n",
       "    }\n",
       "</style>\n",
       "<table border=\"1\" class=\"dataframe\">\n",
       "  <thead>\n",
       "    <tr style=\"text-align: right;\">\n",
       "      <th></th>\n",
       "      <th>made</th>\n",
       "      <th>abs_corr</th>\n",
       "    </tr>\n",
       "  </thead>\n",
       "  <tbody>\n",
       "    <tr>\n",
       "      <th>made</th>\n",
       "      <td>1.000000</td>\n",
       "      <td>1.000000</td>\n",
       "    </tr>\n",
       "    <tr>\n",
       "      <th>jumpshot</th>\n",
       "      <td>-0.210279</td>\n",
       "      <td>0.210279</td>\n",
       "    </tr>\n",
       "    <tr>\n",
       "      <th>Shot Distance (ft.)</th>\n",
       "      <td>-0.207697</td>\n",
       "      <td>0.207697</td>\n",
       "    </tr>\n",
       "    <tr>\n",
       "      <th>dunk</th>\n",
       "      <td>0.206364</td>\n",
       "      <td>0.206364</td>\n",
       "    </tr>\n",
       "    <tr>\n",
       "      <th>Number of Defenders Closer to the Basket</th>\n",
       "      <td>-0.197501</td>\n",
       "      <td>0.197501</td>\n",
       "    </tr>\n",
       "    <tr>\n",
       "      <th>in_paint</th>\n",
       "      <td>0.193958</td>\n",
       "      <td>0.193958</td>\n",
       "    </tr>\n",
       "    <tr>\n",
       "      <th>Cosine of the Angle with the Closest Defender</th>\n",
       "      <td>0.178757</td>\n",
       "      <td>0.178757</td>\n",
       "    </tr>\n",
       "    <tr>\n",
       "      <th>pts</th>\n",
       "      <td>-0.175005</td>\n",
       "      <td>0.175005</td>\n",
       "    </tr>\n",
       "    <tr>\n",
       "      <th>Second-Closest Defender Behind</th>\n",
       "      <td>0.167137</td>\n",
       "      <td>0.167137</td>\n",
       "    </tr>\n",
       "    <tr>\n",
       "      <th>Closest Defender Inside</th>\n",
       "      <td>-0.165122</td>\n",
       "      <td>0.165122</td>\n",
       "    </tr>\n",
       "    <tr>\n",
       "      <th>Cosine of the Angle with the Second-Closest Defender</th>\n",
       "      <td>0.163951</td>\n",
       "      <td>0.163951</td>\n",
       "    </tr>\n",
       "    <tr>\n",
       "      <th>Closest Defender Behind</th>\n",
       "      <td>0.160759</td>\n",
       "      <td>0.160759</td>\n",
       "    </tr>\n",
       "    <tr>\n",
       "      <th>Shooter in Restricted Area</th>\n",
       "      <td>0.153367</td>\n",
       "      <td>0.153367</td>\n",
       "    </tr>\n",
       "    <tr>\n",
       "      <th>Closest Defender Blocking</th>\n",
       "      <td>-0.151869</td>\n",
       "      <td>0.151869</td>\n",
       "    </tr>\n",
       "    <tr>\n",
       "      <th>Second-Closest Defender Inside</th>\n",
       "      <td>-0.145398</td>\n",
       "      <td>0.145398</td>\n",
       "    </tr>\n",
       "    <tr>\n",
       "      <th>Shooter in the Paint</th>\n",
       "      <td>0.137380</td>\n",
       "      <td>0.137380</td>\n",
       "    </tr>\n",
       "    <tr>\n",
       "      <th>off_cut</th>\n",
       "      <td>0.133388</td>\n",
       "      <td>0.133388</td>\n",
       "    </tr>\n",
       "    <tr>\n",
       "      <th>Average Defender Distance (Feet)</th>\n",
       "      <td>-0.132167</td>\n",
       "      <td>0.132167</td>\n",
       "    </tr>\n",
       "    <tr>\n",
       "      <th>Harmonic Mean Defender Distance</th>\n",
       "      <td>0.110223</td>\n",
       "      <td>0.110223</td>\n",
       "    </tr>\n",
       "    <tr>\n",
       "      <th>spacing</th>\n",
       "      <td>-0.107818</td>\n",
       "      <td>0.107818</td>\n",
       "    </tr>\n",
       "    <tr>\n",
       "      <th>lay_up</th>\n",
       "      <td>0.106444</td>\n",
       "      <td>0.106444</td>\n",
       "    </tr>\n",
       "    <tr>\n",
       "      <th>Second-Closest Defender Blocking</th>\n",
       "      <td>-0.100160</td>\n",
       "      <td>0.100160</td>\n",
       "    </tr>\n",
       "    <tr>\n",
       "      <th>Distance to the Second-Closest Defender (Feet)</th>\n",
       "      <td>-0.097233</td>\n",
       "      <td>0.097233</td>\n",
       "    </tr>\n",
       "    <tr>\n",
       "      <th>catch_and_shoot</th>\n",
       "      <td>-0.093320</td>\n",
       "      <td>0.093320</td>\n",
       "    </tr>\n",
       "    <tr>\n",
       "      <th>alley_oop</th>\n",
       "      <td>0.083711</td>\n",
       "      <td>0.083711</td>\n",
       "    </tr>\n",
       "    <tr>\n",
       "      <th>contest_score</th>\n",
       "      <td>-0.078880</td>\n",
       "      <td>0.078880</td>\n",
       "    </tr>\n",
       "    <tr>\n",
       "      <th>Distance to the Closest Defender (Feet)</th>\n",
       "      <td>-0.066100</td>\n",
       "      <td>0.066100</td>\n",
       "    </tr>\n",
       "    <tr>\n",
       "      <th>transition</th>\n",
       "      <td>0.059928</td>\n",
       "      <td>0.059928</td>\n",
       "    </tr>\n",
       "    <tr>\n",
       "      <th>Defenders in Paint</th>\n",
       "      <td>0.056443</td>\n",
       "      <td>0.056443</td>\n",
       "    </tr>\n",
       "    <tr>\n",
       "      <th>tip_in</th>\n",
       "      <td>0.053311</td>\n",
       "      <td>0.053311</td>\n",
       "    </tr>\n",
       "    <tr>\n",
       "      <th>step_back</th>\n",
       "      <td>-0.048754</td>\n",
       "      <td>0.048754</td>\n",
       "    </tr>\n",
       "    <tr>\n",
       "      <th>reverse</th>\n",
       "      <td>0.048066</td>\n",
       "      <td>0.048066</td>\n",
       "    </tr>\n",
       "    <tr>\n",
       "      <th>Player Free Throw Prior</th>\n",
       "      <td>-0.041555</td>\n",
       "      <td>0.041555</td>\n",
       "    </tr>\n",
       "    <tr>\n",
       "      <th>Height of the Third-Closest Defender's Bounding Box (Pixels)</th>\n",
       "      <td>0.036274</td>\n",
       "      <td>0.036274</td>\n",
       "    </tr>\n",
       "    <tr>\n",
       "      <th>Height of the Second-Closest Defender's Bounding Box (Pixels)</th>\n",
       "      <td>0.034689</td>\n",
       "      <td>0.034689</td>\n",
       "    </tr>\n",
       "    <tr>\n",
       "      <th>Height of the Closest Defender's Bounding Box (Pixels)</th>\n",
       "      <td>0.033657</td>\n",
       "      <td>0.033657</td>\n",
       "    </tr>\n",
       "    <tr>\n",
       "      <th>Defenders in the Restricted Area</th>\n",
       "      <td>0.031269</td>\n",
       "      <td>0.031269</td>\n",
       "    </tr>\n",
       "    <tr>\n",
       "      <th>Player Dunk Prior</th>\n",
       "      <td>0.030983</td>\n",
       "      <td>0.030983</td>\n",
       "    </tr>\n",
       "    <tr>\n",
       "      <th>pick_and_roll</th>\n",
       "      <td>-0.029322</td>\n",
       "      <td>0.029322</td>\n",
       "    </tr>\n",
       "    <tr>\n",
       "      <th>Player Three Prior</th>\n",
       "      <td>-0.022411</td>\n",
       "      <td>0.022411</td>\n",
       "    </tr>\n",
       "    <tr>\n",
       "      <th>Number of Teammates in the Restricted Area</th>\n",
       "      <td>-0.021807</td>\n",
       "      <td>0.021807</td>\n",
       "    </tr>\n",
       "    <tr>\n",
       "      <th>minutes</th>\n",
       "      <td>0.019357</td>\n",
       "      <td>0.019357</td>\n",
       "    </tr>\n",
       "    <tr>\n",
       "      <th>off_drive</th>\n",
       "      <td>0.019236</td>\n",
       "      <td>0.019236</td>\n",
       "    </tr>\n",
       "    <tr>\n",
       "      <th>floater</th>\n",
       "      <td>-0.015761</td>\n",
       "      <td>0.015761</td>\n",
       "    </tr>\n",
       "    <tr>\n",
       "      <th>post_up</th>\n",
       "      <td>0.013154</td>\n",
       "      <td>0.013154</td>\n",
       "    </tr>\n",
       "    <tr>\n",
       "      <th>Player Standing Layup Prior</th>\n",
       "      <td>0.012658</td>\n",
       "      <td>0.012658</td>\n",
       "    </tr>\n",
       "    <tr>\n",
       "      <th>seconds</th>\n",
       "      <td>0.012243</td>\n",
       "      <td>0.012243</td>\n",
       "    </tr>\n",
       "  </tbody>\n",
       "</table>\n",
       "</div>"
      ],
      "text/plain": [
       "                                                        made  abs_corr\n",
       "made                                                1.000000  1.000000\n",
       "jumpshot                                           -0.210279  0.210279\n",
       "Shot Distance (ft.)                                -0.207697  0.207697\n",
       "dunk                                                0.206364  0.206364\n",
       "Number of Defenders Closer to the Basket           -0.197501  0.197501\n",
       "in_paint                                            0.193958  0.193958\n",
       "Cosine of the Angle with the Closest Defender       0.178757  0.178757\n",
       "pts                                                -0.175005  0.175005\n",
       "Second-Closest Defender Behind                      0.167137  0.167137\n",
       "Closest Defender Inside                            -0.165122  0.165122\n",
       "Cosine of the Angle with the Second-Closest Def...  0.163951  0.163951\n",
       "Closest Defender Behind                             0.160759  0.160759\n",
       "Shooter in Restricted Area                          0.153367  0.153367\n",
       "Closest Defender Blocking                          -0.151869  0.151869\n",
       "Second-Closest Defender Inside                     -0.145398  0.145398\n",
       "Shooter in the Paint                                0.137380  0.137380\n",
       "off_cut                                             0.133388  0.133388\n",
       "Average Defender Distance (Feet)                   -0.132167  0.132167\n",
       "Harmonic Mean Defender Distance                     0.110223  0.110223\n",
       "spacing                                            -0.107818  0.107818\n",
       "lay_up                                              0.106444  0.106444\n",
       "Second-Closest Defender Blocking                   -0.100160  0.100160\n",
       "Distance to the Second-Closest Defender (Feet)     -0.097233  0.097233\n",
       "catch_and_shoot                                    -0.093320  0.093320\n",
       "alley_oop                                           0.083711  0.083711\n",
       "contest_score                                      -0.078880  0.078880\n",
       "Distance to the Closest Defender (Feet)            -0.066100  0.066100\n",
       "transition                                          0.059928  0.059928\n",
       "Defenders in Paint                                  0.056443  0.056443\n",
       "tip_in                                              0.053311  0.053311\n",
       "step_back                                          -0.048754  0.048754\n",
       "reverse                                             0.048066  0.048066\n",
       "Player Free Throw Prior                            -0.041555  0.041555\n",
       "Height of the Third-Closest Defender's Bounding...  0.036274  0.036274\n",
       "Height of the Second-Closest Defender's Boundin...  0.034689  0.034689\n",
       "Height of the Closest Defender's Bounding Box (...  0.033657  0.033657\n",
       "Defenders in the Restricted Area                    0.031269  0.031269\n",
       "Player Dunk Prior                                   0.030983  0.030983\n",
       "pick_and_roll                                      -0.029322  0.029322\n",
       "Player Three Prior                                 -0.022411  0.022411\n",
       "Number of Teammates in the Restricted Area         -0.021807  0.021807\n",
       "minutes                                             0.019357  0.019357\n",
       "off_drive                                           0.019236  0.019236\n",
       "floater                                            -0.015761  0.015761\n",
       "post_up                                             0.013154  0.013154\n",
       "Player Standing Layup Prior                         0.012658  0.012658\n",
       "seconds                                             0.012243  0.012243"
      ]
     },
     "execution_count": 579,
     "metadata": {},
     "output_type": "execute_result"
    }
   ],
   "source": [
    "corrdf[corrdf['abs_corr'] >= 0.01].sort_values(by='abs_corr', ascending=False)"
   ]
  },
  {
   "cell_type": "code",
   "execution_count": 580,
   "id": "2990c2e4",
   "metadata": {},
   "outputs": [
    {
     "data": {
      "text/plain": [
       "Defenders in the Restricted Area                                 95691\n",
       "Number of Teammates in the Restricted Area                       95691\n",
       "Height of the Third-Closest Defender's Bounding Box (Pixels)      2398\n",
       "Height of the Second-Closest Defender's Bounding Box (Pixels)     2398\n",
       "Height of the Closest Defender's Bounding Box (Pixels)            1765\n",
       "dtype: int64"
      ]
     },
     "execution_count": 580,
     "metadata": {},
     "output_type": "execute_result"
    }
   ],
   "source": [
    "df2[[\"Height of the Third-Closest Defender's Bounding Box (Pixels)\", \"Height of the Second-Closest Defender's Bounding Box (Pixels)\",\"Height of the Closest Defender's Bounding Box (Pixels)\",\"Defenders in the Restricted Area\",\"Number of Teammates in the Restricted Area\"]].isna().sum().sort_values(ascending=False).head(20)"
   ]
  },
  {
   "cell_type": "code",
   "execution_count": 581,
   "id": "c0d87d90",
   "metadata": {},
   "outputs": [
    {
     "data": {
      "text/html": [
       "<div>\n",
       "<style scoped>\n",
       "    .dataframe tbody tr th:only-of-type {\n",
       "        vertical-align: middle;\n",
       "    }\n",
       "\n",
       "    .dataframe tbody tr th {\n",
       "        vertical-align: top;\n",
       "    }\n",
       "\n",
       "    .dataframe thead th {\n",
       "        text-align: right;\n",
       "    }\n",
       "</style>\n",
       "<table border=\"1\" class=\"dataframe\">\n",
       "  <thead>\n",
       "    <tr style=\"text-align: right;\">\n",
       "      <th></th>\n",
       "      <th>made</th>\n",
       "      <th>abs_corr</th>\n",
       "    </tr>\n",
       "  </thead>\n",
       "  <tbody>\n",
       "    <tr>\n",
       "      <th>made</th>\n",
       "      <td>1.000000</td>\n",
       "      <td>1.000000</td>\n",
       "    </tr>\n",
       "    <tr>\n",
       "      <th>jumpshot</th>\n",
       "      <td>-0.210279</td>\n",
       "      <td>0.210279</td>\n",
       "    </tr>\n",
       "    <tr>\n",
       "      <th>Shot Distance (ft.)</th>\n",
       "      <td>-0.207697</td>\n",
       "      <td>0.207697</td>\n",
       "    </tr>\n",
       "    <tr>\n",
       "      <th>dunk</th>\n",
       "      <td>0.206364</td>\n",
       "      <td>0.206364</td>\n",
       "    </tr>\n",
       "    <tr>\n",
       "      <th>Number of Defenders Closer to the Basket</th>\n",
       "      <td>-0.197501</td>\n",
       "      <td>0.197501</td>\n",
       "    </tr>\n",
       "    <tr>\n",
       "      <th>in_paint</th>\n",
       "      <td>0.193958</td>\n",
       "      <td>0.193958</td>\n",
       "    </tr>\n",
       "    <tr>\n",
       "      <th>Cosine of the Angle with the Closest Defender</th>\n",
       "      <td>0.178757</td>\n",
       "      <td>0.178757</td>\n",
       "    </tr>\n",
       "    <tr>\n",
       "      <th>pts</th>\n",
       "      <td>-0.175005</td>\n",
       "      <td>0.175005</td>\n",
       "    </tr>\n",
       "    <tr>\n",
       "      <th>Second-Closest Defender Behind</th>\n",
       "      <td>0.167137</td>\n",
       "      <td>0.167137</td>\n",
       "    </tr>\n",
       "    <tr>\n",
       "      <th>Closest Defender Inside</th>\n",
       "      <td>-0.165122</td>\n",
       "      <td>0.165122</td>\n",
       "    </tr>\n",
       "    <tr>\n",
       "      <th>Cosine of the Angle with the Second-Closest Defender</th>\n",
       "      <td>0.163951</td>\n",
       "      <td>0.163951</td>\n",
       "    </tr>\n",
       "    <tr>\n",
       "      <th>Closest Defender Behind</th>\n",
       "      <td>0.160759</td>\n",
       "      <td>0.160759</td>\n",
       "    </tr>\n",
       "    <tr>\n",
       "      <th>Shooter in Restricted Area</th>\n",
       "      <td>0.153367</td>\n",
       "      <td>0.153367</td>\n",
       "    </tr>\n",
       "    <tr>\n",
       "      <th>Closest Defender Blocking</th>\n",
       "      <td>-0.151869</td>\n",
       "      <td>0.151869</td>\n",
       "    </tr>\n",
       "    <tr>\n",
       "      <th>Second-Closest Defender Inside</th>\n",
       "      <td>-0.145398</td>\n",
       "      <td>0.145398</td>\n",
       "    </tr>\n",
       "    <tr>\n",
       "      <th>Shooter in the Paint</th>\n",
       "      <td>0.137380</td>\n",
       "      <td>0.137380</td>\n",
       "    </tr>\n",
       "    <tr>\n",
       "      <th>off_cut</th>\n",
       "      <td>0.133388</td>\n",
       "      <td>0.133388</td>\n",
       "    </tr>\n",
       "    <tr>\n",
       "      <th>Average Defender Distance (Feet)</th>\n",
       "      <td>-0.132167</td>\n",
       "      <td>0.132167</td>\n",
       "    </tr>\n",
       "    <tr>\n",
       "      <th>Harmonic Mean Defender Distance</th>\n",
       "      <td>0.110223</td>\n",
       "      <td>0.110223</td>\n",
       "    </tr>\n",
       "    <tr>\n",
       "      <th>spacing</th>\n",
       "      <td>-0.107818</td>\n",
       "      <td>0.107818</td>\n",
       "    </tr>\n",
       "    <tr>\n",
       "      <th>lay_up</th>\n",
       "      <td>0.106444</td>\n",
       "      <td>0.106444</td>\n",
       "    </tr>\n",
       "    <tr>\n",
       "      <th>Second-Closest Defender Blocking</th>\n",
       "      <td>-0.100160</td>\n",
       "      <td>0.100160</td>\n",
       "    </tr>\n",
       "    <tr>\n",
       "      <th>Distance to the Second-Closest Defender (Feet)</th>\n",
       "      <td>-0.097233</td>\n",
       "      <td>0.097233</td>\n",
       "    </tr>\n",
       "    <tr>\n",
       "      <th>catch_and_shoot</th>\n",
       "      <td>-0.093320</td>\n",
       "      <td>0.093320</td>\n",
       "    </tr>\n",
       "    <tr>\n",
       "      <th>alley_oop</th>\n",
       "      <td>0.083711</td>\n",
       "      <td>0.083711</td>\n",
       "    </tr>\n",
       "    <tr>\n",
       "      <th>contest_score</th>\n",
       "      <td>-0.078880</td>\n",
       "      <td>0.078880</td>\n",
       "    </tr>\n",
       "    <tr>\n",
       "      <th>Distance to the Closest Defender (Feet)</th>\n",
       "      <td>-0.066100</td>\n",
       "      <td>0.066100</td>\n",
       "    </tr>\n",
       "    <tr>\n",
       "      <th>transition</th>\n",
       "      <td>0.059928</td>\n",
       "      <td>0.059928</td>\n",
       "    </tr>\n",
       "    <tr>\n",
       "      <th>Defenders in Paint</th>\n",
       "      <td>0.056443</td>\n",
       "      <td>0.056443</td>\n",
       "    </tr>\n",
       "    <tr>\n",
       "      <th>tip_in</th>\n",
       "      <td>0.053311</td>\n",
       "      <td>0.053311</td>\n",
       "    </tr>\n",
       "  </tbody>\n",
       "</table>\n",
       "</div>"
      ],
      "text/plain": [
       "                                                        made  abs_corr\n",
       "made                                                1.000000  1.000000\n",
       "jumpshot                                           -0.210279  0.210279\n",
       "Shot Distance (ft.)                                -0.207697  0.207697\n",
       "dunk                                                0.206364  0.206364\n",
       "Number of Defenders Closer to the Basket           -0.197501  0.197501\n",
       "in_paint                                            0.193958  0.193958\n",
       "Cosine of the Angle with the Closest Defender       0.178757  0.178757\n",
       "pts                                                -0.175005  0.175005\n",
       "Second-Closest Defender Behind                      0.167137  0.167137\n",
       "Closest Defender Inside                            -0.165122  0.165122\n",
       "Cosine of the Angle with the Second-Closest Def...  0.163951  0.163951\n",
       "Closest Defender Behind                             0.160759  0.160759\n",
       "Shooter in Restricted Area                          0.153367  0.153367\n",
       "Closest Defender Blocking                          -0.151869  0.151869\n",
       "Second-Closest Defender Inside                     -0.145398  0.145398\n",
       "Shooter in the Paint                                0.137380  0.137380\n",
       "off_cut                                             0.133388  0.133388\n",
       "Average Defender Distance (Feet)                   -0.132167  0.132167\n",
       "Harmonic Mean Defender Distance                     0.110223  0.110223\n",
       "spacing                                            -0.107818  0.107818\n",
       "lay_up                                              0.106444  0.106444\n",
       "Second-Closest Defender Blocking                   -0.100160  0.100160\n",
       "Distance to the Second-Closest Defender (Feet)     -0.097233  0.097233\n",
       "catch_and_shoot                                    -0.093320  0.093320\n",
       "alley_oop                                           0.083711  0.083711\n",
       "contest_score                                      -0.078880  0.078880\n",
       "Distance to the Closest Defender (Feet)            -0.066100  0.066100\n",
       "transition                                          0.059928  0.059928\n",
       "Defenders in Paint                                  0.056443  0.056443\n",
       "tip_in                                              0.053311  0.053311"
      ]
     },
     "execution_count": 581,
     "metadata": {},
     "output_type": "execute_result"
    }
   ],
   "source": [
    "corrdf[corrdf['abs_corr'] >= 0.05].sort_values(by='abs_corr', ascending=False)"
   ]
  },
  {
   "cell_type": "code",
   "execution_count": 496,
   "id": "399e55e8",
   "metadata": {},
   "outputs": [],
   "source": [
    "features = corrdf[corrdf['abs_corr'] >= 0.05].index.tolist()"
   ]
  },
  {
   "cell_type": "code",
   "execution_count": 586,
   "id": "0ddc2fac",
   "metadata": {},
   "outputs": [],
   "source": [
    "features = corrdf[corrdf['abs_corr'] >= 0.01].index.tolist()"
   ]
  },
  {
   "cell_type": "code",
   "execution_count": 587,
   "id": "8e9e74df",
   "metadata": {},
   "outputs": [
    {
     "data": {
      "text/plain": [
       "['minutes',\n",
       " 'seconds',\n",
       " 'made',\n",
       " 'contest_score',\n",
       " 'spacing',\n",
       " 'Player Dunk Prior',\n",
       " 'Player Three Prior',\n",
       " 'Player Free Throw Prior',\n",
       " 'Player Standing Layup Prior',\n",
       " 'Defenders in Paint',\n",
       " 'Shooter in the Paint',\n",
       " 'Closest Defender Behind',\n",
       " 'Closest Defender Inside',\n",
       " 'Closest Defender Blocking',\n",
       " 'Shooter in Restricted Area',\n",
       " 'Second-Closest Defender Behind',\n",
       " 'Second-Closest Defender Inside',\n",
       " 'Harmonic Mean Defender Distance',\n",
       " 'Average Defender Distance (Feet)',\n",
       " 'Defenders in the Restricted Area',\n",
       " 'Second-Closest Defender Blocking',\n",
       " 'Number of Defenders Closer to the Basket',\n",
       " 'Number of Teammates in the Restricted Area',\n",
       " 'Cosine of the Angle with the Closest Defender',\n",
       " 'Cosine of the Angle with the Second-Closest Defender',\n",
       " \"Height of the Closest Defender's Bounding Box (Pixels)\",\n",
       " \"Height of the Third-Closest Defender's Bounding Box (Pixels)\",\n",
       " \"Height of the Second-Closest Defender's Bounding Box (Pixels)\",\n",
       " 'Shot Distance (ft.)',\n",
       " 'Distance to the Closest Defender (Feet)',\n",
       " 'Distance to the Second-Closest Defender (Feet)',\n",
       " 'pts',\n",
       " 'alley_oop',\n",
       " 'catch_and_shoot',\n",
       " 'dunk',\n",
       " 'floater',\n",
       " 'in_paint',\n",
       " 'jumpshot',\n",
       " 'lay_up',\n",
       " 'off_cut',\n",
       " 'off_drive',\n",
       " 'pick_and_roll',\n",
       " 'post_up',\n",
       " 'reverse',\n",
       " 'step_back',\n",
       " 'tip_in',\n",
       " 'transition']"
      ]
     },
     "execution_count": 587,
     "metadata": {},
     "output_type": "execute_result"
    }
   ],
   "source": [
    "features"
   ]
  },
  {
   "cell_type": "code",
   "execution_count": 590,
   "id": "f167d34a",
   "metadata": {},
   "outputs": [],
   "source": [
    "drop = ['made','contest_score','Player Free Throw Prior','Player Dunk Prior','Player Three Prior','Player Standing Layup Prior']\n",
    "features = [feat for feat in features if feat not in drop]\n"
   ]
  },
  {
   "cell_type": "code",
   "execution_count": 591,
   "id": "b984fa13",
   "metadata": {},
   "outputs": [
    {
     "data": {
      "text/plain": [
       "['minutes',\n",
       " 'seconds',\n",
       " 'spacing',\n",
       " 'Defenders in Paint',\n",
       " 'Shooter in the Paint',\n",
       " 'Closest Defender Behind',\n",
       " 'Closest Defender Inside',\n",
       " 'Closest Defender Blocking',\n",
       " 'Shooter in Restricted Area',\n",
       " 'Second-Closest Defender Behind',\n",
       " 'Second-Closest Defender Inside',\n",
       " 'Harmonic Mean Defender Distance',\n",
       " 'Average Defender Distance (Feet)',\n",
       " 'Defenders in the Restricted Area',\n",
       " 'Second-Closest Defender Blocking',\n",
       " 'Number of Defenders Closer to the Basket',\n",
       " 'Number of Teammates in the Restricted Area',\n",
       " 'Cosine of the Angle with the Closest Defender',\n",
       " 'Cosine of the Angle with the Second-Closest Defender',\n",
       " \"Height of the Closest Defender's Bounding Box (Pixels)\",\n",
       " \"Height of the Third-Closest Defender's Bounding Box (Pixels)\",\n",
       " \"Height of the Second-Closest Defender's Bounding Box (Pixels)\",\n",
       " 'Shot Distance (ft.)',\n",
       " 'Distance to the Closest Defender (Feet)',\n",
       " 'Distance to the Second-Closest Defender (Feet)',\n",
       " 'pts',\n",
       " 'alley_oop',\n",
       " 'catch_and_shoot',\n",
       " 'dunk',\n",
       " 'floater',\n",
       " 'in_paint',\n",
       " 'jumpshot',\n",
       " 'lay_up',\n",
       " 'off_cut',\n",
       " 'off_drive',\n",
       " 'pick_and_roll',\n",
       " 'post_up',\n",
       " 'reverse',\n",
       " 'step_back',\n",
       " 'tip_in',\n",
       " 'transition']"
      ]
     },
     "execution_count": 591,
     "metadata": {},
     "output_type": "execute_result"
    }
   ],
   "source": [
    "features"
   ]
  },
  {
   "cell_type": "code",
   "execution_count": 592,
   "id": "05f08cf4",
   "metadata": {},
   "outputs": [],
   "source": [
    "descriptor_features = ['alley_oop', 'catch_and_shoot', 'dunk', 'floater', 'hook', 'in_paint',\n",
    " 'jumpshot', 'lay_up', 'off_cut', 'off_drive', 'pick_and_roll', 'post_up',\n",
    " 'pull_up', 'reverse', 'step_back', 'tip_in', 'transition', 'turnaround']\n",
    "\n",
    "# Add any that are missing\n",
    "for feat in descriptor_features:\n",
    "    if feat not in features:\n",
    "        features.append(feat)"
   ]
  },
  {
   "cell_type": "code",
   "execution_count": 593,
   "id": "7bd13755",
   "metadata": {},
   "outputs": [
    {
     "data": {
      "text/plain": [
       "['minutes',\n",
       " 'seconds',\n",
       " 'spacing',\n",
       " 'Defenders in Paint',\n",
       " 'Shooter in the Paint',\n",
       " 'Closest Defender Behind',\n",
       " 'Closest Defender Inside',\n",
       " 'Closest Defender Blocking',\n",
       " 'Shooter in Restricted Area',\n",
       " 'Second-Closest Defender Behind',\n",
       " 'Second-Closest Defender Inside',\n",
       " 'Harmonic Mean Defender Distance',\n",
       " 'Average Defender Distance (Feet)',\n",
       " 'Defenders in the Restricted Area',\n",
       " 'Second-Closest Defender Blocking',\n",
       " 'Number of Defenders Closer to the Basket',\n",
       " 'Number of Teammates in the Restricted Area',\n",
       " 'Cosine of the Angle with the Closest Defender',\n",
       " 'Cosine of the Angle with the Second-Closest Defender',\n",
       " \"Height of the Closest Defender's Bounding Box (Pixels)\",\n",
       " \"Height of the Third-Closest Defender's Bounding Box (Pixels)\",\n",
       " \"Height of the Second-Closest Defender's Bounding Box (Pixels)\",\n",
       " 'Shot Distance (ft.)',\n",
       " 'Distance to the Closest Defender (Feet)',\n",
       " 'Distance to the Second-Closest Defender (Feet)',\n",
       " 'pts',\n",
       " 'alley_oop',\n",
       " 'catch_and_shoot',\n",
       " 'dunk',\n",
       " 'floater',\n",
       " 'in_paint',\n",
       " 'jumpshot',\n",
       " 'lay_up',\n",
       " 'off_cut',\n",
       " 'off_drive',\n",
       " 'pick_and_roll',\n",
       " 'post_up',\n",
       " 'reverse',\n",
       " 'step_back',\n",
       " 'tip_in',\n",
       " 'transition',\n",
       " 'hook',\n",
       " 'pull_up',\n",
       " 'turnaround']"
      ]
     },
     "execution_count": 593,
     "metadata": {},
     "output_type": "execute_result"
    }
   ],
   "source": [
    "features"
   ]
  },
  {
   "cell_type": "code",
   "execution_count": 635,
   "id": "80934e11",
   "metadata": {},
   "outputs": [
    {
     "name": "stdout",
     "output_type": "stream",
     "text": [
      "[LightGBM] [Warning] Found whitespace in feature_names, replace with underlines\n",
      "[LightGBM] [Info] Number of positive: 86348, number of negative: 95748\n",
      "[LightGBM] [Info] Auto-choosing row-wise multi-threading, the overhead of testing was 0.028295 seconds.\n",
      "You can set `force_row_wise=true` to remove the overhead.\n",
      "And if memory is not enough, you can set `force_col_wise=true`.\n",
      "[LightGBM] [Info] Total Bins 3171\n",
      "[LightGBM] [Info] Number of data points in the train set: 182096, number of used features: 43\n",
      "[LightGBM] [Info] [binary:BoostFromScore]: pavg=0.474189 -> initscore=-0.103334\n",
      "[LightGBM] [Info] Start training from score -0.103334\n",
      "[LightGBM] [Warning] No further splits with positive gain, best gain: -inf\n",
      "[LightGBM] [Warning] No further splits with positive gain, best gain: -inf\n",
      "[LightGBM] [Warning] No further splits with positive gain, best gain: -inf\n",
      "[LightGBM] [Warning] No further splits with positive gain, best gain: -inf\n",
      "[LightGBM] [Warning] No further splits with positive gain, best gain: -inf\n",
      "[LightGBM] [Warning] No further splits with positive gain, best gain: -inf\n",
      "[LightGBM] [Warning] No further splits with positive gain, best gain: -inf\n",
      "[LightGBM] [Warning] No further splits with positive gain, best gain: -inf\n",
      "[LightGBM] [Warning] No further splits with positive gain, best gain: -inf\n",
      "[LightGBM] [Warning] No further splits with positive gain, best gain: -inf\n",
      "[LightGBM] [Warning] No further splits with positive gain, best gain: -inf\n",
      "[LightGBM] [Warning] No further splits with positive gain, best gain: -inf\n",
      "Test ROC-AUC: 0.6496965766583178\n"
     ]
    },
    {
     "name": "stderr",
     "output_type": "stream",
     "text": [
      "/var/folders/dc/q98d65zj19x9pb811hwrr98h0000gp/T/ipykernel_28546/3760776692.py:25: FutureWarning: Setting an item of incompatible dtype is deprecated and will raise an error in a future version of pandas. Value '[0.38027699 0.48923891 0.61706828 ... 0.29493282 0.4071031  0.32488604]' has dtype incompatible with float32, please explicitly cast to a compatible dtype first.\n",
      "  df2.loc[X_test.index, 'xFG%'] = xfg_test\n"
     ]
    }
   ],
   "source": [
    "import lightgbm as lgb\n",
    "from sklearn.model_selection import train_test_split\n",
    "from sklearn.metrics import roc_auc_score\n",
    "\n",
    "# 1. Prepare features and target\n",
    "# X = df2[features].drop(columns=['made','contest_score'], errors='ignore')\n",
    "X = df2[features]\n",
    "\n",
    "y = df2['made']\n",
    "\n",
    "# 2. Train/test split\n",
    "X_train, X_test, y_train, y_test = train_test_split(X, y, test_size=0.2, random_state=42)\n",
    "\n",
    "# 3. Train LightGBM model\n",
    "model = lgb.LGBMClassifier(n_estimators=200, max_depth=6, random_state=42)\n",
    "model.fit(X_train, y_train)\n",
    "\n",
    "# 4. Predict xFG% (probability of make)\n",
    "xfg_test = model.predict_proba(X_test)[:, 1]\n",
    "\n",
    "# 5. Evaluate\n",
    "print(\"Test ROC-AUC:\", roc_auc_score(y_test, xfg_test))\n",
    "\n",
    "# 6. Attach xFG% to  DataFrame\n",
    "df2.loc[X_test.index, 'xFG%'] = xfg_test\n",
    "\n",
    "player_xfg = pd.DataFrame(df2[df2['xFG%'].notna()].groupby('shooter_name')['xFG%'].mean())\n",
    "player_xfg['FG%'] = df2[df2['xFG%'].notna()].groupby('shooter_name')['made'].mean()\n",
    "player_xfg['xFG%_diff'] = player_xfg['FG%'] - player_xfg['xFG%']\n",
    "player_xfg['count'] = df2[df2['xFG%'].notna()].groupby('shooter_name')['made'].count()\n",
    "player_xfg['avg_shot_dist'] = df2[df2['xFG%'].notna()].groupby('shooter_name')['Shot Distance (ft.)'].mean()\n",
    "player_xfg['avg_def_height'] = df2[df2['xFG%'].notna()].groupby('shooter_name')['Height of the Closest Defender (Inches)'].mean()\n",
    "player_xfg['avg_def_dist'] = df2[df2['xFG%'].notna()].groupby('shooter_name')['Distance to the Closest Defender (Feet)'].mean()\n"
   ]
  },
  {
   "cell_type": "code",
   "execution_count": 636,
   "id": "8dcf3b28",
   "metadata": {},
   "outputs": [
    {
     "data": {
      "text/plain": [
       "<Axes: xlabel='xFG%', ylabel='Count'>"
      ]
     },
     "execution_count": 636,
     "metadata": {},
     "output_type": "execute_result"
    },
    {
     "data": {
      "image/png": "[encoded data removed]",
      "text/plain": [
       "<Figure size 640x480 with 1 Axes>"
      ]
     },
     "metadata": {},
     "output_type": "display_data"
    }
   ],
   "source": [
    "sns.histplot(df2,x='xFG%')"
   ]
  },
  {
   "cell_type": "code",
   "execution_count": 637,
   "id": "6153f2b4",
   "metadata": {},
   "outputs": [
    {
     "data": {
      "text/html": [
       "<div>\n",
       "<style scoped>\n",
       "    .dataframe tbody tr th:only-of-type {\n",
       "        vertical-align: middle;\n",
       "    }\n",
       "\n",
       "    .dataframe tbody tr th {\n",
       "        vertical-align: top;\n",
       "    }\n",
       "\n",
       "    .dataframe thead th {\n",
       "        text-align: right;\n",
       "    }\n",
       "</style>\n",
       "<table border=\"1\" class=\"dataframe\">\n",
       "  <thead>\n",
       "    <tr style=\"text-align: right;\">\n",
       "      <th></th>\n",
       "      <th>xFG%</th>\n",
       "      <th>FG%</th>\n",
       "      <th>xFG%_diff</th>\n",
       "      <th>count</th>\n",
       "      <th>avg_shot_dist</th>\n",
       "      <th>avg_def_height</th>\n",
       "      <th>avg_def_dist</th>\n",
       "    </tr>\n",
       "    <tr>\n",
       "      <th>shooter_name</th>\n",
       "      <th></th>\n",
       "      <th></th>\n",
       "      <th></th>\n",
       "      <th></th>\n",
       "      <th></th>\n",
       "      <th></th>\n",
       "      <th></th>\n",
       "    </tr>\n",
       "  </thead>\n",
       "  <tbody>\n",
       "    <tr>\n",
       "      <th>Luka Doncic</th>\n",
       "      <td>0.414830</td>\n",
       "      <td>0.490196</td>\n",
       "      <td>0.075366</td>\n",
       "      <td>408</td>\n",
       "      <td>17.877618</td>\n",
       "      <td>79.107743</td>\n",
       "      <td>5.595325</td>\n",
       "    </tr>\n",
       "    <tr>\n",
       "      <th>Jalen Brunson</th>\n",
       "      <td>0.438698</td>\n",
       "      <td>0.494898</td>\n",
       "      <td>0.056200</td>\n",
       "      <td>392</td>\n",
       "      <td>15.051679</td>\n",
       "      <td>78.730065</td>\n",
       "      <td>5.291540</td>\n",
       "    </tr>\n",
       "    <tr>\n",
       "      <th>Jayson Tatum</th>\n",
       "      <td>0.457055</td>\n",
       "      <td>0.469101</td>\n",
       "      <td>0.012046</td>\n",
       "      <td>356</td>\n",
       "      <td>15.546005</td>\n",
       "      <td>79.109531</td>\n",
       "      <td>5.701974</td>\n",
       "    </tr>\n",
       "    <tr>\n",
       "      <th>Shai Gilgeous-Alexander</th>\n",
       "      <td>0.483038</td>\n",
       "      <td>0.535411</td>\n",
       "      <td>0.052373</td>\n",
       "      <td>353</td>\n",
       "      <td>11.724300</td>\n",
       "      <td>79.088994</td>\n",
       "      <td>4.901369</td>\n",
       "    </tr>\n",
       "    <tr>\n",
       "      <th>Anthony Edwards</th>\n",
       "      <td>0.470578</td>\n",
       "      <td>0.487106</td>\n",
       "      <td>0.016528</td>\n",
       "      <td>349</td>\n",
       "      <td>13.960202</td>\n",
       "      <td>79.261301</td>\n",
       "      <td>5.136542</td>\n",
       "    </tr>\n",
       "    <tr>\n",
       "      <th>Nikola Jokic</th>\n",
       "      <td>0.482026</td>\n",
       "      <td>0.554517</td>\n",
       "      <td>0.072491</td>\n",
       "      <td>321</td>\n",
       "      <td>10.576201</td>\n",
       "      <td>80.936986</td>\n",
       "      <td>4.599496</td>\n",
       "    </tr>\n",
       "    <tr>\n",
       "      <th>De'Aaron Fox</th>\n",
       "      <td>0.443555</td>\n",
       "      <td>0.429907</td>\n",
       "      <td>-0.013649</td>\n",
       "      <td>321</td>\n",
       "      <td>15.537141</td>\n",
       "      <td>78.807827</td>\n",
       "      <td>5.581360</td>\n",
       "    </tr>\n",
       "    <tr>\n",
       "      <th>Pascal Siakam</th>\n",
       "      <td>0.496714</td>\n",
       "      <td>0.559748</td>\n",
       "      <td>0.063035</td>\n",
       "      <td>318</td>\n",
       "      <td>10.150452</td>\n",
       "      <td>79.288081</td>\n",
       "      <td>4.701266</td>\n",
       "    </tr>\n",
       "    <tr>\n",
       "      <th>Stephen Curry</th>\n",
       "      <td>0.420289</td>\n",
       "      <td>0.501650</td>\n",
       "      <td>0.081361</td>\n",
       "      <td>303</td>\n",
       "      <td>19.112093</td>\n",
       "      <td>78.754940</td>\n",
       "      <td>6.073165</td>\n",
       "    </tr>\n",
       "    <tr>\n",
       "      <th>Tyrese Maxey</th>\n",
       "      <td>0.438907</td>\n",
       "      <td>0.435216</td>\n",
       "      <td>-0.003691</td>\n",
       "      <td>301</td>\n",
       "      <td>16.599040</td>\n",
       "      <td>78.704844</td>\n",
       "      <td>5.800138</td>\n",
       "    </tr>\n",
       "  </tbody>\n",
       "</table>\n",
       "</div>"
      ],
      "text/plain": [
       "                             xFG%       FG%  xFG%_diff  count  avg_shot_dist  \\\n",
       "shooter_name                                                                   \n",
       "Luka Doncic              0.414830  0.490196   0.075366    408      17.877618   \n",
       "Jalen Brunson            0.438698  0.494898   0.056200    392      15.051679   \n",
       "Jayson Tatum             0.457055  0.469101   0.012046    356      15.546005   \n",
       "Shai Gilgeous-Alexander  0.483038  0.535411   0.052373    353      11.724300   \n",
       "Anthony Edwards          0.470578  0.487106   0.016528    349      13.960202   \n",
       "Nikola Jokic             0.482026  0.554517   0.072491    321      10.576201   \n",
       "De'Aaron Fox             0.443555  0.429907  -0.013649    321      15.537141   \n",
       "Pascal Siakam            0.496714  0.559748   0.063035    318      10.150452   \n",
       "Stephen Curry            0.420289  0.501650   0.081361    303      19.112093   \n",
       "Tyrese Maxey             0.438907  0.435216  -0.003691    301      16.599040   \n",
       "\n",
       "                         avg_def_height  avg_def_dist  \n",
       "shooter_name                                           \n",
       "Luka Doncic                   79.107743      5.595325  \n",
       "Jalen Brunson                 78.730065      5.291540  \n",
       "Jayson Tatum                  79.109531      5.701974  \n",
       "Shai Gilgeous-Alexander       79.088994      4.901369  \n",
       "Anthony Edwards               79.261301      5.136542  \n",
       "Nikola Jokic                  80.936986      4.599496  \n",
       "De'Aaron Fox                  78.807827      5.581360  \n",
       "Pascal Siakam                 79.288081      4.701266  \n",
       "Stephen Curry                 78.754940      6.073165  \n",
       "Tyrese Maxey                  78.704844      5.800138  "
      ]
     },
     "execution_count": 637,
     "metadata": {},
     "output_type": "execute_result"
    }
   ],
   "source": [
    "player_xfg.sort_values(by='count', ascending=False).head(10)"
   ]
  },
  {
   "cell_type": "code",
   "execution_count": 638,
   "id": "80f26f52",
   "metadata": {},
   "outputs": [
    {
     "data": {
      "text/html": [
       "<div>\n",
       "<style scoped>\n",
       "    .dataframe tbody tr th:only-of-type {\n",
       "        vertical-align: middle;\n",
       "    }\n",
       "\n",
       "    .dataframe tbody tr th {\n",
       "        vertical-align: top;\n",
       "    }\n",
       "\n",
       "    .dataframe thead th {\n",
       "        text-align: right;\n",
       "    }\n",
       "</style>\n",
       "<table border=\"1\" class=\"dataframe\">\n",
       "  <thead>\n",
       "    <tr style=\"text-align: right;\">\n",
       "      <th></th>\n",
       "      <th>xFG%</th>\n",
       "      <th>FG%</th>\n",
       "      <th>xFG%_diff</th>\n",
       "      <th>count</th>\n",
       "      <th>avg_shot_dist</th>\n",
       "      <th>avg_def_height</th>\n",
       "      <th>avg_def_dist</th>\n",
       "    </tr>\n",
       "    <tr>\n",
       "      <th>shooter_name</th>\n",
       "      <th></th>\n",
       "      <th></th>\n",
       "      <th></th>\n",
       "      <th></th>\n",
       "      <th></th>\n",
       "      <th></th>\n",
       "      <th></th>\n",
       "    </tr>\n",
       "  </thead>\n",
       "  <tbody>\n",
       "    <tr>\n",
       "      <th>Alex Caruso</th>\n",
       "      <td>0.460914</td>\n",
       "      <td>0.603960</td>\n",
       "      <td>0.143046</td>\n",
       "      <td>101</td>\n",
       "      <td>17.954936</td>\n",
       "      <td>79.149453</td>\n",
       "      <td>7.629186</td>\n",
       "    </tr>\n",
       "    <tr>\n",
       "      <th>Simone Fontecchio</th>\n",
       "      <td>0.439292</td>\n",
       "      <td>0.543860</td>\n",
       "      <td>0.104567</td>\n",
       "      <td>114</td>\n",
       "      <td>18.050148</td>\n",
       "      <td>78.977077</td>\n",
       "      <td>6.407222</td>\n",
       "    </tr>\n",
       "    <tr>\n",
       "      <th>Al Horford</th>\n",
       "      <td>0.459109</td>\n",
       "      <td>0.561905</td>\n",
       "      <td>0.102796</td>\n",
       "      <td>105</td>\n",
       "      <td>16.968233</td>\n",
       "      <td>79.700040</td>\n",
       "      <td>7.088781</td>\n",
       "    </tr>\n",
       "    <tr>\n",
       "      <th>Brook Lopez</th>\n",
       "      <td>0.467462</td>\n",
       "      <td>0.558824</td>\n",
       "      <td>0.091361</td>\n",
       "      <td>170</td>\n",
       "      <td>16.871206</td>\n",
       "      <td>80.552581</td>\n",
       "      <td>6.062316</td>\n",
       "    </tr>\n",
       "    <tr>\n",
       "      <th>Aaron Nesmith</th>\n",
       "      <td>0.472941</td>\n",
       "      <td>0.561644</td>\n",
       "      <td>0.088703</td>\n",
       "      <td>146</td>\n",
       "      <td>14.958636</td>\n",
       "      <td>79.180339</td>\n",
       "      <td>6.104803</td>\n",
       "    </tr>\n",
       "    <tr>\n",
       "      <th>Andrew Nembhard</th>\n",
       "      <td>0.451599</td>\n",
       "      <td>0.537879</td>\n",
       "      <td>0.086280</td>\n",
       "      <td>132</td>\n",
       "      <td>14.591049</td>\n",
       "      <td>78.588048</td>\n",
       "      <td>5.757490</td>\n",
       "    </tr>\n",
       "    <tr>\n",
       "      <th>James Harden</th>\n",
       "      <td>0.416971</td>\n",
       "      <td>0.502392</td>\n",
       "      <td>0.085421</td>\n",
       "      <td>209</td>\n",
       "      <td>18.425995</td>\n",
       "      <td>78.459483</td>\n",
       "      <td>5.966949</td>\n",
       "    </tr>\n",
       "    <tr>\n",
       "      <th>Rui Hachimura</th>\n",
       "      <td>0.513088</td>\n",
       "      <td>0.597484</td>\n",
       "      <td>0.084396</td>\n",
       "      <td>159</td>\n",
       "      <td>13.380918</td>\n",
       "      <td>79.370579</td>\n",
       "      <td>5.452200</td>\n",
       "    </tr>\n",
       "    <tr>\n",
       "      <th>Kawhi Leonard</th>\n",
       "      <td>0.482028</td>\n",
       "      <td>0.565217</td>\n",
       "      <td>0.083189</td>\n",
       "      <td>253</td>\n",
       "      <td>13.577884</td>\n",
       "      <td>79.130748</td>\n",
       "      <td>4.986724</td>\n",
       "    </tr>\n",
       "    <tr>\n",
       "      <th>Stephen Curry</th>\n",
       "      <td>0.420289</td>\n",
       "      <td>0.501650</td>\n",
       "      <td>0.081361</td>\n",
       "      <td>303</td>\n",
       "      <td>19.112093</td>\n",
       "      <td>78.754940</td>\n",
       "      <td>6.073165</td>\n",
       "    </tr>\n",
       "  </tbody>\n",
       "</table>\n",
       "</div>"
      ],
      "text/plain": [
       "                       xFG%       FG%  xFG%_diff  count  avg_shot_dist  \\\n",
       "shooter_name                                                             \n",
       "Alex Caruso        0.460914  0.603960   0.143046    101      17.954936   \n",
       "Simone Fontecchio  0.439292  0.543860   0.104567    114      18.050148   \n",
       "Al Horford         0.459109  0.561905   0.102796    105      16.968233   \n",
       "Brook Lopez        0.467462  0.558824   0.091361    170      16.871206   \n",
       "Aaron Nesmith      0.472941  0.561644   0.088703    146      14.958636   \n",
       "Andrew Nembhard    0.451599  0.537879   0.086280    132      14.591049   \n",
       "James Harden       0.416971  0.502392   0.085421    209      18.425995   \n",
       "Rui Hachimura      0.513088  0.597484   0.084396    159      13.380918   \n",
       "Kawhi Leonard      0.482028  0.565217   0.083189    253      13.577884   \n",
       "Stephen Curry      0.420289  0.501650   0.081361    303      19.112093   \n",
       "\n",
       "                   avg_def_height  avg_def_dist  \n",
       "shooter_name                                     \n",
       "Alex Caruso             79.149453      7.629186  \n",
       "Simone Fontecchio       78.977077      6.407222  \n",
       "Al Horford              79.700040      7.088781  \n",
       "Brook Lopez             80.552581      6.062316  \n",
       "Aaron Nesmith           79.180339      6.104803  \n",
       "Andrew Nembhard         78.588048      5.757490  \n",
       "James Harden            78.459483      5.966949  \n",
       "Rui Hachimura           79.370579      5.452200  \n",
       "Kawhi Leonard           79.130748      4.986724  \n",
       "Stephen Curry           78.754940      6.073165  "
      ]
     },
     "execution_count": 638,
     "metadata": {},
     "output_type": "execute_result"
    }
   ],
   "source": [
    "player_xfg[player_xfg['count'] > player_xfg['count'].mean()].sort_values(by='xFG%_diff', ascending=False).head(10)"
   ]
  },
  {
   "cell_type": "code",
   "execution_count": 639,
   "id": "b632bb31",
   "metadata": {},
   "outputs": [
    {
     "data": {
      "text/html": [
       "<div>\n",
       "<style scoped>\n",
       "    .dataframe tbody tr th:only-of-type {\n",
       "        vertical-align: middle;\n",
       "    }\n",
       "\n",
       "    .dataframe tbody tr th {\n",
       "        vertical-align: top;\n",
       "    }\n",
       "\n",
       "    .dataframe thead th {\n",
       "        text-align: right;\n",
       "    }\n",
       "</style>\n",
       "<table border=\"1\" class=\"dataframe\">\n",
       "  <thead>\n",
       "    <tr style=\"text-align: right;\">\n",
       "      <th></th>\n",
       "      <th>xFG%</th>\n",
       "      <th>FG%</th>\n",
       "      <th>xFG%_diff</th>\n",
       "      <th>count</th>\n",
       "      <th>avg_shot_dist</th>\n",
       "      <th>avg_def_height</th>\n",
       "      <th>avg_def_dist</th>\n",
       "    </tr>\n",
       "    <tr>\n",
       "      <th>shooter_name</th>\n",
       "      <th></th>\n",
       "      <th></th>\n",
       "      <th></th>\n",
       "      <th></th>\n",
       "      <th></th>\n",
       "      <th></th>\n",
       "      <th></th>\n",
       "    </tr>\n",
       "  </thead>\n",
       "  <tbody>\n",
       "    <tr>\n",
       "      <th>Wendell Carter Jr.</th>\n",
       "      <td>0.532010</td>\n",
       "      <td>0.456522</td>\n",
       "      <td>-0.075488</td>\n",
       "      <td>92</td>\n",
       "      <td>14.359219</td>\n",
       "      <td>80.440428</td>\n",
       "      <td>6.202766</td>\n",
       "    </tr>\n",
       "    <tr>\n",
       "      <th>Cam Whitmore</th>\n",
       "      <td>0.504194</td>\n",
       "      <td>0.428571</td>\n",
       "      <td>-0.075622</td>\n",
       "      <td>98</td>\n",
       "      <td>15.006045</td>\n",
       "      <td>78.773314</td>\n",
       "      <td>5.770293</td>\n",
       "    </tr>\n",
       "    <tr>\n",
       "      <th>Saddiq Bey</th>\n",
       "      <td>0.465381</td>\n",
       "      <td>0.387755</td>\n",
       "      <td>-0.077626</td>\n",
       "      <td>147</td>\n",
       "      <td>16.313648</td>\n",
       "      <td>79.358833</td>\n",
       "      <td>7.362568</td>\n",
       "    </tr>\n",
       "    <tr>\n",
       "      <th>Jaden Hardy</th>\n",
       "      <td>0.438216</td>\n",
       "      <td>0.349057</td>\n",
       "      <td>-0.089159</td>\n",
       "      <td>106</td>\n",
       "      <td>16.833532</td>\n",
       "      <td>78.428170</td>\n",
       "      <td>6.163781</td>\n",
       "    </tr>\n",
       "    <tr>\n",
       "      <th>Luguentz Dort</th>\n",
       "      <td>0.469991</td>\n",
       "      <td>0.376712</td>\n",
       "      <td>-0.093279</td>\n",
       "      <td>146</td>\n",
       "      <td>17.108598</td>\n",
       "      <td>78.322023</td>\n",
       "      <td>6.935197</td>\n",
       "    </tr>\n",
       "    <tr>\n",
       "      <th>Russell Westbrook</th>\n",
       "      <td>0.510537</td>\n",
       "      <td>0.410072</td>\n",
       "      <td>-0.100465</td>\n",
       "      <td>139</td>\n",
       "      <td>11.310662</td>\n",
       "      <td>79.034727</td>\n",
       "      <td>5.412838</td>\n",
       "    </tr>\n",
       "    <tr>\n",
       "      <th>Keyonte George</th>\n",
       "      <td>0.415948</td>\n",
       "      <td>0.303571</td>\n",
       "      <td>-0.112377</td>\n",
       "      <td>168</td>\n",
       "      <td>17.923298</td>\n",
       "      <td>78.499696</td>\n",
       "      <td>5.879983</td>\n",
       "    </tr>\n",
       "    <tr>\n",
       "      <th>Kelly Oubre Jr.</th>\n",
       "      <td>0.508655</td>\n",
       "      <td>0.394872</td>\n",
       "      <td>-0.113783</td>\n",
       "      <td>195</td>\n",
       "      <td>12.814551</td>\n",
       "      <td>79.381446</td>\n",
       "      <td>5.120190</td>\n",
       "    </tr>\n",
       "    <tr>\n",
       "      <th>David Roddy</th>\n",
       "      <td>0.472914</td>\n",
       "      <td>0.318182</td>\n",
       "      <td>-0.154733</td>\n",
       "      <td>88</td>\n",
       "      <td>13.607527</td>\n",
       "      <td>79.619120</td>\n",
       "      <td>5.830246</td>\n",
       "    </tr>\n",
       "    <tr>\n",
       "      <th>Dalano Banton</th>\n",
       "      <td>0.446549</td>\n",
       "      <td>0.288136</td>\n",
       "      <td>-0.158413</td>\n",
       "      <td>118</td>\n",
       "      <td>14.585950</td>\n",
       "      <td>78.487787</td>\n",
       "      <td>5.342824</td>\n",
       "    </tr>\n",
       "  </tbody>\n",
       "</table>\n",
       "</div>"
      ],
      "text/plain": [
       "                        xFG%       FG%  xFG%_diff  count  avg_shot_dist  \\\n",
       "shooter_name                                                              \n",
       "Wendell Carter Jr.  0.532010  0.456522  -0.075488     92      14.359219   \n",
       "Cam Whitmore        0.504194  0.428571  -0.075622     98      15.006045   \n",
       "Saddiq Bey          0.465381  0.387755  -0.077626    147      16.313648   \n",
       "Jaden Hardy         0.438216  0.349057  -0.089159    106      16.833532   \n",
       "Luguentz Dort       0.469991  0.376712  -0.093279    146      17.108598   \n",
       "Russell Westbrook   0.510537  0.410072  -0.100465    139      11.310662   \n",
       "Keyonte George      0.415948  0.303571  -0.112377    168      17.923298   \n",
       "Kelly Oubre Jr.     0.508655  0.394872  -0.113783    195      12.814551   \n",
       "David Roddy         0.472914  0.318182  -0.154733     88      13.607527   \n",
       "Dalano Banton       0.446549  0.288136  -0.158413    118      14.585950   \n",
       "\n",
       "                    avg_def_height  avg_def_dist  \n",
       "shooter_name                                      \n",
       "Wendell Carter Jr.       80.440428      6.202766  \n",
       "Cam Whitmore             78.773314      5.770293  \n",
       "Saddiq Bey               79.358833      7.362568  \n",
       "Jaden Hardy              78.428170      6.163781  \n",
       "Luguentz Dort            78.322023      6.935197  \n",
       "Russell Westbrook        79.034727      5.412838  \n",
       "Keyonte George           78.499696      5.879983  \n",
       "Kelly Oubre Jr.          79.381446      5.120190  \n",
       "David Roddy              79.619120      5.830246  \n",
       "Dalano Banton            78.487787      5.342824  "
      ]
     },
     "execution_count": 639,
     "metadata": {},
     "output_type": "execute_result"
    }
   ],
   "source": [
    "player_xfg[player_xfg['count'] > player_xfg['count'].mean()].sort_values(by='xFG%_diff', ascending=False).tail(10)"
   ]
  },
  {
   "cell_type": "code",
   "execution_count": 640,
   "id": "cae65970",
   "metadata": {},
   "outputs": [
    {
     "data": {
      "text/plain": [
       "<Axes: xlabel='xFG%', ylabel='FG%'>"
      ]
     },
     "execution_count": 640,
     "metadata": {},
     "output_type": "execute_result"
    },
    {
     "data": {
      "image/png": "[encoded data removed]",
      "text/plain": [
       "<Figure size 640x480 with 1 Axes>"
      ]
     },
     "metadata": {},
     "output_type": "display_data"
    }
   ],
   "source": [
    "# sns.scatterplot(data=player_xfg, x='xFG%', y='FG%')\n",
    "sns.regplot(data=player_xfg, x='xFG%', y='FG%', color='red')"
   ]
  },
  {
   "cell_type": "code",
   "execution_count": 641,
   "id": "bd38dceb",
   "metadata": {},
   "outputs": [
    {
     "data": {
      "text/plain": [
       "<Axes: >"
      ]
     },
     "execution_count": 641,
     "metadata": {},
     "output_type": "execute_result"
    },
    {
     "data": {
      "image/png": "[encoded data removed]",
      "text/plain": [
       "<Figure size 640x480 with 1 Axes>"
      ]
     },
     "metadata": {},
     "output_type": "display_data"
    }
   ],
   "source": [
    "player_xfg['xFG%_diff'].hist(bins=30)"
   ]
  },
  {
   "cell_type": "code",
   "execution_count": 642,
   "id": "2322f134",
   "metadata": {},
   "outputs": [
    {
     "data": {
      "image/png": "[encoded data removed]",
      "text/plain": [
       "<Figure size 800x500 with 1 Axes>"
      ]
     },
     "metadata": {},
     "output_type": "display_data"
    }
   ],
   "source": [
    "import matplotlib.pyplot as plt\n",
    "import seaborn as sns\n",
    "\n",
    "\n",
    "plt.figure(figsize=(8,5))\n",
    "sns.scatterplot(data=player_xfg, x='xFG%', y='xFG%_diff')\n",
    "plt.axhline(0, color='red', linestyle='--')\n",
    "plt.xlabel('Predicted xFG%')\n",
    "plt.ylabel('Residual (FG% - xFG%)')\n",
    "plt.title('Residual Plot: Actual FG% vs. Residual')\n",
    "plt.show()"
   ]
  },
  {
   "cell_type": "code",
   "execution_count": 643,
   "id": "f0d63e5d",
   "metadata": {},
   "outputs": [],
   "source": [
    "from sklearn.metrics import mean_absolute_error, mean_squared_error,roc_auc_score,root_mean_squared_error"
   ]
  },
  {
   "cell_type": "code",
   "execution_count": 644,
   "id": "0e0b2c01",
   "metadata": {},
   "outputs": [
    {
     "data": {
      "image/png": "[encoded data removed]",
      "text/plain": [
       "<Figure size 640x480 with 1 Axes>"
      ]
     },
     "metadata": {},
     "output_type": "display_data"
    }
   ],
   "source": [
    "from sklearn.calibration import calibration_curve\n",
    "prob_true, prob_pred = calibration_curve(y_test, xfg_test, n_bins=10)\n",
    "plt.plot(prob_pred, prob_true, marker='o')\n",
    "plt.plot([0,1],[0,1],'--')\n",
    "plt.xlabel('Predicted xFG%')\n",
    "plt.ylabel('Actual FG%')\n",
    "plt.title('Calibration Curve')\n",
    "plt.show()"
   ]
  },
  {
   "cell_type": "code",
   "execution_count": 645,
   "id": "0c5f0497",
   "metadata": {},
   "outputs": [
    {
     "data": {
      "image/png": "[encoded data removed]",
      "text/plain": [
       "<Figure size 640x480 with 1 Axes>"
      ]
     },
     "metadata": {},
     "output_type": "display_data"
    }
   ],
   "source": [
    "sns.scatterplot(data=player_xfg[player_xfg['count'] > player_xfg['count'].mean()], x='xFG%', y='FG%')\n",
    "sns.regplot(data=player_xfg[player_xfg['count'] > player_xfg['count'].mean()], x='xFG%', y='FG%', color='red')\n",
    "plt.show()"
   ]
  },
  {
   "cell_type": "code",
   "execution_count": 646,
   "id": "6af071af",
   "metadata": {},
   "outputs": [
    {
     "name": "stderr",
     "output_type": "stream",
     "text": [
      "/var/folders/dc/q98d65zj19x9pb811hwrr98h0000gp/T/ipykernel_28546/3932455319.py:3: FutureWarning: The default of observed=False is deprecated and will be changed to True in a future version of pandas. Pass observed=False to retain current behavior or observed=True to adopt the future default and silence this warning.\n",
      "  bin_stats = player_xfg.groupby('xFG_bin').agg(\n"
     ]
    }
   ],
   "source": [
    "player_xfg['xFG_bin'] = pd.cut(player_xfg['xFG%'], bins=np.linspace(0, 1, 11))\n",
    "\n",
    "bin_stats = player_xfg.groupby('xFG_bin').agg(\n",
    "    avg_xFG=('xFG%', 'mean'),\n",
    "    avg_FG=('FG%', 'mean'),\n",
    "    count=('count', 'sum')\n",
    ").reset_index()\n"
   ]
  },
  {
   "cell_type": "code",
   "execution_count": 647,
   "id": "5bda09e9",
   "metadata": {},
   "outputs": [
    {
     "data": {
      "text/plain": [
       "<Axes: xlabel='avg_xFG', ylabel='avg_FG'>"
      ]
     },
     "execution_count": 647,
     "metadata": {},
     "output_type": "execute_result"
    },
    {
     "data": {
      "image/png": "[encoded data removed]",
      "text/plain": [
       "<Figure size 640x480 with 1 Axes>"
      ]
     },
     "metadata": {},
     "output_type": "display_data"
    }
   ],
   "source": [
    "sns.lineplot(data=bin_stats, x='avg_xFG', y='avg_FG', marker='o')"
   ]
  },
  {
   "cell_type": "code",
   "execution_count": 649,
   "id": "5a8edf20",
   "metadata": {},
   "outputs": [
    {
     "data": {
      "text/html": [
       "<div>\n",
       "<style scoped>\n",
       "    .dataframe tbody tr th:only-of-type {\n",
       "        vertical-align: middle;\n",
       "    }\n",
       "\n",
       "    .dataframe tbody tr th {\n",
       "        vertical-align: top;\n",
       "    }\n",
       "\n",
       "    .dataframe thead th {\n",
       "        text-align: right;\n",
       "    }\n",
       "</style>\n",
       "<table border=\"1\" class=\"dataframe\">\n",
       "  <thead>\n",
       "    <tr style=\"text-align: right;\">\n",
       "      <th></th>\n",
       "      <th>FG%</th>\n",
       "      <th>xFG%</th>\n",
       "    </tr>\n",
       "  </thead>\n",
       "  <tbody>\n",
       "    <tr>\n",
       "      <th>FG%</th>\n",
       "      <td>1.000000</td>\n",
       "      <td>0.538925</td>\n",
       "    </tr>\n",
       "    <tr>\n",
       "      <th>xFG%</th>\n",
       "      <td>0.538925</td>\n",
       "      <td>1.000000</td>\n",
       "    </tr>\n",
       "  </tbody>\n",
       "</table>\n",
       "</div>"
      ],
      "text/plain": [
       "           FG%      xFG%\n",
       "FG%   1.000000  0.538925\n",
       "xFG%  0.538925  1.000000"
      ]
     },
     "execution_count": 649,
     "metadata": {},
     "output_type": "execute_result"
    }
   ],
   "source": [
    "player_xfg[['FG%','xFG%']].corr()"
   ]
  },
  {
   "cell_type": "code",
   "execution_count": 650,
   "id": "6ec48540",
   "metadata": {},
   "outputs": [
    {
     "data": {
      "image/png": "[encoded data removed]",
      "text/plain": [
       "<Figure size 800x600 with 1 Axes>"
      ]
     },
     "metadata": {},
     "output_type": "display_data"
    }
   ],
   "source": [
    "import matplotlib.pyplot as plt\n",
    "import seaborn as sns\n",
    "\n",
    "plt.figure(figsize=(8, 6))\n",
    "\n",
    "# LightGBM predicted probabilities histogram by class\n",
    "sns.histplot(xfg_test[y_test == 1], color='green', label='Positive (event_success=1)', kde=True, stat='density', bins=30, alpha=0.6)\n",
    "sns.histplot(xfg_test[y_test == 0], color='red', label='Negative (event_success=0)', kde=True, stat='density', bins=30, alpha=0.6)\n",
    "\n",
    "plt.xlabel('Predicted Probability')\n",
    "plt.ylabel('Density')\n",
    "plt.title('LightGBM Predicted Probability Distribution by True Class')\n",
    "plt.legend()\n",
    "plt.show()"
   ]
  },
  {
   "cell_type": "code",
   "execution_count": 651,
   "id": "1763122a",
   "metadata": {},
   "outputs": [
    {
     "name": "stdout",
     "output_type": "stream",
     "text": [
      "Brier Score: 0.2275\n"
     ]
    }
   ],
   "source": [
    "from sklearn.metrics import brier_score_loss\n",
    "\n",
    "brier = brier_score_loss(y_test, xfg_test)\n",
    "print(f\"Brier Score: {brier:.4f}\")"
   ]
  },
  {
   "cell_type": "code",
   "execution_count": 652,
   "id": "3fcc8f89",
   "metadata": {},
   "outputs": [
    {
     "name": "stdout",
     "output_type": "stream",
     "text": [
      "Mean Absolute Error (MAE): 0.0378\n",
      "Root Mean Squared Error (RMSE): 0.0477\n"
     ]
    }
   ],
   "source": [
    "actual_fg = player_xfg[player_xfg['count'] > player_xfg['count'].mean()][\"FG%\"].values\n",
    "predicted_fg = player_xfg[player_xfg['count'] > player_xfg['count'].mean()][\"xFG%\"].values\n",
    "\n",
    "mae = mean_absolute_error(actual_fg, predicted_fg)\n",
    "rmse = np.sqrt(mean_squared_error(actual_fg, predicted_fg))\n",
    "\n",
    "print(f\"Mean Absolute Error (MAE): {mae:.4f}\")\n",
    "print(f\"Root Mean Squared Error (RMSE): {rmse:.4f}\")"
   ]
  },
  {
   "cell_type": "code",
   "execution_count": 653,
   "id": "09fdd5c8",
   "metadata": {},
   "outputs": [
    {
     "data": {
      "text/plain": [
       "45524"
      ]
     },
     "execution_count": 653,
     "metadata": {},
     "output_type": "execute_result"
    }
   ],
   "source": [
    "len(xfg_test)"
   ]
  },
  {
   "cell_type": "code",
   "execution_count": 609,
   "id": "9618ab68",
   "metadata": {},
   "outputs": [
    {
     "data": {
      "text/plain": [
       "182096"
      ]
     },
     "execution_count": 609,
     "metadata": {},
     "output_type": "execute_result"
    }
   ],
   "source": [
    "df2['xFG%'].isna().sum()"
   ]
  },
  {
   "cell_type": "code",
   "execution_count": 654,
   "id": "a9e815c7",
   "metadata": {},
   "outputs": [
    {
     "data": {
      "text/plain": [
       "count    545.000000\n",
       "mean       0.487551\n",
       "std        0.083466\n",
       "min        0.301529\n",
       "25%        0.433841\n",
       "50%        0.467603\n",
       "75%        0.521266\n",
       "max        0.926039\n",
       "Name: xFG%, dtype: float64"
      ]
     },
     "execution_count": 654,
     "metadata": {},
     "output_type": "execute_result"
    }
   ],
   "source": [
    "player_xfg['xFG%'].describe()"
   ]
  },
  {
   "cell_type": "code",
   "execution_count": 655,
   "id": "b38db301",
   "metadata": {},
   "outputs": [
    {
     "data": {
      "text/plain": [
       "count    208.000000\n",
       "mean       0.003389\n",
       "std        0.047692\n",
       "min       -0.158413\n",
       "25%       -0.027677\n",
       "50%        0.003656\n",
       "75%        0.035327\n",
       "max        0.143046\n",
       "Name: xFG%_diff, dtype: float64"
      ]
     },
     "execution_count": 655,
     "metadata": {},
     "output_type": "execute_result"
    }
   ],
   "source": [
    "player_xfg[player_xfg['count'] > player_xfg['count'].mean()]['xFG%_diff'].describe()"
   ]
  },
  {
   "cell_type": "code",
   "execution_count": 656,
   "id": "453f08ba",
   "metadata": {},
   "outputs": [
    {
     "data": {
      "text/plain": [
       "count    545.000000\n",
       "mean      -0.019283\n",
       "std        0.136364\n",
       "min       -0.687032\n",
       "25%       -0.064304\n",
       "50%       -0.008489\n",
       "75%        0.041748\n",
       "max        0.625682\n",
       "Name: xFG%_diff, dtype: float64"
      ]
     },
     "execution_count": 656,
     "metadata": {},
     "output_type": "execute_result"
    }
   ],
   "source": [
    "player_xfg['xFG%_diff'].describe()"
   ]
  },
  {
   "cell_type": "code",
   "execution_count": 657,
   "id": "8b0de585",
   "metadata": {},
   "outputs": [
    {
     "data": {
      "text/plain": [
       "count    45524.000000\n",
       "mean         0.473799\n",
       "std          0.149105\n",
       "min          0.013354\n",
       "25%          0.375490\n",
       "50%          0.432193\n",
       "75%          0.526230\n",
       "max          0.995910\n",
       "Name: xFG%, dtype: float64"
      ]
     },
     "execution_count": 657,
     "metadata": {},
     "output_type": "execute_result"
    }
   ],
   "source": [
    "df2['xFG%'].describe()"
   ]
  },
  {
   "cell_type": "code",
   "execution_count": 658,
   "id": "21eda69b",
   "metadata": {},
   "outputs": [
    {
     "data": {
      "text/plain": [
       "action_type\n",
       "2pt    0.543849\n",
       "3pt    0.366625\n",
       "Name: xFG%, dtype: float64"
      ]
     },
     "execution_count": 658,
     "metadata": {},
     "output_type": "execute_result"
    }
   ],
   "source": [
    "df2.groupby('action_type')['xFG%'].mean()"
   ]
  },
  {
   "cell_type": "code",
   "execution_count": 659,
   "id": "19c519d8",
   "metadata": {},
   "outputs": [
    {
     "data": {
      "text/plain": [
       "action_type\n",
       "2pt    0.545095\n",
       "3pt    0.366356\n",
       "Name: made, dtype: float64"
      ]
     },
     "execution_count": 659,
     "metadata": {},
     "output_type": "execute_result"
    }
   ],
   "source": [
    "df2.groupby('action_type')['made'].mean()"
   ]
  },
  {
   "cell_type": "code",
   "execution_count": 660,
   "id": "70fc567c",
   "metadata": {},
   "outputs": [
    {
     "data": {
      "text/plain": [
       "<Axes: >"
      ]
     },
     "execution_count": 660,
     "metadata": {},
     "output_type": "execute_result"
    },
    {
     "data": {
      "image/png": "[encoded data removed]",
      "text/plain": [
       "<Figure size 640x480 with 2 Axes>"
      ]
     },
     "metadata": {},
     "output_type": "display_data"
    }
   ],
   "source": [
    "sns.heatmap(df2[['Shot Distance (ft.)','spacing','Distance to the Closest Defender (Feet)','xFG%']].corr(), annot=True, cmap='coolwarm')"
   ]
  },
  {
   "cell_type": "code",
   "execution_count": 661,
   "id": "0ad64c0b",
   "metadata": {},
   "outputs": [
    {
     "data": {
      "text/plain": [
       "['alley_oop',\n",
       " 'catch_and_shoot',\n",
       " 'dunk',\n",
       " 'floater',\n",
       " 'hook',\n",
       " 'in_paint',\n",
       " 'jumpshot',\n",
       " 'lay_up',\n",
       " 'off_cut',\n",
       " 'off_drive',\n",
       " 'pick_and_roll',\n",
       " 'post_up',\n",
       " 'pull_up',\n",
       " 'reverse',\n",
       " 'step_back',\n",
       " 'tip_in',\n",
       " 'transition',\n",
       " 'turnaround']"
      ]
     },
     "execution_count": 661,
     "metadata": {},
     "output_type": "execute_result"
    }
   ],
   "source": [
    "descriptor_features"
   ]
  },
  {
   "cell_type": "code",
   "execution_count": 617,
   "id": "6f9f463d",
   "metadata": {},
   "outputs": [
    {
     "name": "stdout",
     "output_type": "stream",
     "text": [
      "alley_oop: 0.81076366\n",
      "catch_and_shoot: 0.3763672\n",
      "dunk: 0.8776285\n",
      "floater: 0.4506612\n",
      "hook: 0.47730067\n",
      "in_paint: 0.5729315\n",
      "jumpshot: 0.39444554\n",
      "lay_up: 0.5573557\n",
      "off_cut: 0.71083313\n",
      "off_drive: 0.49007234\n",
      "pick_and_roll: 0.4412127\n",
      "post_up: 0.5076696\n",
      "pull_up: 0.41753125\n",
      "reverse: 0.6232727\n",
      "step_back: 0.3787107\n",
      "tip_in: 0.6000475\n",
      "transition: 0.54500574\n",
      "turnaround: 0.47274002\n"
     ]
    }
   ],
   "source": [
    "for feat in descriptor_features:\n",
    "    print(feat + \": \" + str(df2[df2[feat] == 1]['xFG%'].mean()))"
   ]
  },
  {
   "cell_type": "code",
   "execution_count": 662,
   "id": "ef32d0c1",
   "metadata": {},
   "outputs": [
    {
     "name": "stdout",
     "output_type": "stream",
     "text": [
      "alley_oop: 0.8199817240328967\n",
      "catch_and_shoot: 0.3802760284068069\n",
      "dunk: 0.8775334813435508\n",
      "floater: 0.4512563241358786\n",
      "hook: 0.4753291497477544\n",
      "in_paint: 0.5735366851613716\n",
      "jumpshot: 0.3954254887254261\n",
      "lay_up: 0.5560653899495411\n",
      "off_cut: 0.7144085493182656\n",
      "off_drive: 0.4898658741764549\n",
      "pick_and_roll: 0.4386727478649484\n",
      "post_up: 0.5040833568009011\n",
      "pull_up: 0.36363636363636365\n",
      "reverse: 0.6306169078446306\n",
      "step_back: 0.3831757158918061\n",
      "tip_in: 0.5998370008149959\n",
      "transition: 0.5462921682270768\n",
      "turnaround: 0.4702776101388051\n"
     ]
    }
   ],
   "source": [
    "for feat in descriptor_features:\n",
    "    print(feat + \": \" + str(df2[df2[feat] == 1]['made'].mean()))"
   ]
  },
  {
   "cell_type": "code",
   "execution_count": 330,
   "id": "8528ebf9",
   "metadata": {},
   "outputs": [],
   "source": [
    "curry = pd.read_sql_query(\n",
    "    sql=\"SELECT * FROM testnba WHERE (action_type = '2pt' OR action_type = '3pt') AND shooter_name = court_player_name AND court_player_name = 'Kyrie Irving'\",\n",
    "    con=conn\n",
    ")"
   ]
  },
  {
   "cell_type": "code",
   "execution_count": 530,
   "id": "b48c59c3",
   "metadata": {},
   "outputs": [
    {
     "data": {
      "text/html": [
       "<div>\n",
       "<style scoped>\n",
       "    .dataframe tbody tr th:only-of-type {\n",
       "        vertical-align: middle;\n",
       "    }\n",
       "\n",
       "    .dataframe tbody tr th {\n",
       "        vertical-align: top;\n",
       "    }\n",
       "\n",
       "    .dataframe thead th {\n",
       "        text-align: right;\n",
       "    }\n",
       "</style>\n",
       "<table border=\"1\" class=\"dataframe\">\n",
       "  <thead>\n",
       "    <tr style=\"text-align: right;\">\n",
       "      <th></th>\n",
       "      <th>game_id</th>\n",
       "      <th>parent_play_id</th>\n",
       "      <th>play_id</th>\n",
       "      <th>team_id</th>\n",
       "      <th>shooter_id</th>\n",
       "      <th>period</th>\n",
       "      <th>minutes</th>\n",
       "      <th>seconds</th>\n",
       "      <th>made</th>\n",
       "      <th>action_type</th>\n",
       "      <th>...</th>\n",
       "      <th>floater</th>\n",
       "      <th>hook</th>\n",
       "      <th>off_drive</th>\n",
       "      <th>pick_and_roll</th>\n",
       "      <th>post_up</th>\n",
       "      <th>pull_up</th>\n",
       "      <th>step_back</th>\n",
       "      <th>turnaround</th>\n",
       "      <th>play_descriptors_parsed</th>\n",
       "      <th>eFG%</th>\n",
       "    </tr>\n",
       "  </thead>\n",
       "  <tbody>\n",
       "    <tr>\n",
       "      <th>0</th>\n",
       "      <td>338647</td>\n",
       "      <td>6</td>\n",
       "      <td>21</td>\n",
       "      <td>95600.0</td>\n",
       "      <td>1186791</td>\n",
       "      <td>1</td>\n",
       "      <td>11</td>\n",
       "      <td>0.0</td>\n",
       "      <td>0</td>\n",
       "      <td>2pt</td>\n",
       "      <td>...</td>\n",
       "      <td>0</td>\n",
       "      <td>0</td>\n",
       "      <td>1</td>\n",
       "      <td>0</td>\n",
       "      <td>0</td>\n",
       "      <td>0</td>\n",
       "      <td>0</td>\n",
       "      <td>0</td>\n",
       "      <td>[lay_up, in_paint, off_drive]</td>\n",
       "      <td>0.577463</td>\n",
       "    </tr>\n",
       "    <tr>\n",
       "      <th>1</th>\n",
       "      <td>338647</td>\n",
       "      <td>28</td>\n",
       "      <td>61</td>\n",
       "      <td>95600.0</td>\n",
       "      <td>1186791</td>\n",
       "      <td>1</td>\n",
       "      <td>7</td>\n",
       "      <td>0.0</td>\n",
       "      <td>0</td>\n",
       "      <td>3pt</td>\n",
       "      <td>...</td>\n",
       "      <td>0</td>\n",
       "      <td>0</td>\n",
       "      <td>0</td>\n",
       "      <td>0</td>\n",
       "      <td>0</td>\n",
       "      <td>0</td>\n",
       "      <td>0</td>\n",
       "      <td>0</td>\n",
       "      <td>[jumpshot]</td>\n",
       "      <td>0.357929</td>\n",
       "    </tr>\n",
       "    <tr>\n",
       "      <th>2</th>\n",
       "      <td>338647</td>\n",
       "      <td>56</td>\n",
       "      <td>110</td>\n",
       "      <td>95600.0</td>\n",
       "      <td>1186791</td>\n",
       "      <td>1</td>\n",
       "      <td>3</td>\n",
       "      <td>16.0</td>\n",
       "      <td>1</td>\n",
       "      <td>3pt</td>\n",
       "      <td>...</td>\n",
       "      <td>0</td>\n",
       "      <td>0</td>\n",
       "      <td>0</td>\n",
       "      <td>0</td>\n",
       "      <td>0</td>\n",
       "      <td>0</td>\n",
       "      <td>0</td>\n",
       "      <td>0</td>\n",
       "      <td>[jumpshot]</td>\n",
       "      <td>0.501443</td>\n",
       "    </tr>\n",
       "    <tr>\n",
       "      <th>3</th>\n",
       "      <td>338647</td>\n",
       "      <td>71</td>\n",
       "      <td>138</td>\n",
       "      <td>95600.0</td>\n",
       "      <td>1186791</td>\n",
       "      <td>1</td>\n",
       "      <td>1</td>\n",
       "      <td>35.0</td>\n",
       "      <td>0</td>\n",
       "      <td>2pt</td>\n",
       "      <td>...</td>\n",
       "      <td>0</td>\n",
       "      <td>0</td>\n",
       "      <td>1</td>\n",
       "      <td>0</td>\n",
       "      <td>0</td>\n",
       "      <td>0</td>\n",
       "      <td>0</td>\n",
       "      <td>0</td>\n",
       "      <td>[lay_up, in_paint, off_drive]</td>\n",
       "      <td>0.261034</td>\n",
       "    </tr>\n",
       "    <tr>\n",
       "      <th>4</th>\n",
       "      <td>338647</td>\n",
       "      <td>80</td>\n",
       "      <td>154</td>\n",
       "      <td>95600.0</td>\n",
       "      <td>1186791</td>\n",
       "      <td>1</td>\n",
       "      <td>0</td>\n",
       "      <td>31.7</td>\n",
       "      <td>1</td>\n",
       "      <td>2pt</td>\n",
       "      <td>...</td>\n",
       "      <td>0</td>\n",
       "      <td>0</td>\n",
       "      <td>1</td>\n",
       "      <td>1</td>\n",
       "      <td>0</td>\n",
       "      <td>0</td>\n",
       "      <td>0</td>\n",
       "      <td>0</td>\n",
       "      <td>[pick_and_roll, in_paint, lay_up, off_drive]</td>\n",
       "      <td>0.341654</td>\n",
       "    </tr>\n",
       "  </tbody>\n",
       "</table>\n",
       "<p>5 rows × 160 columns</p>\n",
       "</div>"
      ],
      "text/plain": [
       "   game_id  parent_play_id  play_id  team_id  shooter_id  period  minutes  \\\n",
       "0   338647               6       21  95600.0     1186791       1       11   \n",
       "1   338647              28       61  95600.0     1186791       1        7   \n",
       "2   338647              56      110  95600.0     1186791       1        3   \n",
       "3   338647              71      138  95600.0     1186791       1        1   \n",
       "4   338647              80      154  95600.0     1186791       1        0   \n",
       "\n",
       "   seconds  made action_type  ... floater  hook  off_drive  pick_and_roll  \\\n",
       "0      0.0     0         2pt  ...       0     0          1              0   \n",
       "1      0.0     0         3pt  ...       0     0          0              0   \n",
       "2     16.0     1         3pt  ...       0     0          0              0   \n",
       "3     35.0     0         2pt  ...       0     0          1              0   \n",
       "4     31.7     1         2pt  ...       0     0          1              1   \n",
       "\n",
       "   post_up pull_up step_back turnaround  \\\n",
       "0        0       0         0          0   \n",
       "1        0       0         0          0   \n",
       "2        0       0         0          0   \n",
       "3        0       0         0          0   \n",
       "4        0       0         0          0   \n",
       "\n",
       "                        play_descriptors_parsed      eFG%  \n",
       "0                 [lay_up, in_paint, off_drive]  0.577463  \n",
       "1                                    [jumpshot]  0.357929  \n",
       "2                                    [jumpshot]  0.501443  \n",
       "3                 [lay_up, in_paint, off_drive]  0.261034  \n",
       "4  [pick_and_roll, in_paint, lay_up, off_drive]  0.341654  \n",
       "\n",
       "[5 rows x 160 columns]"
      ]
     },
     "execution_count": 530,
     "metadata": {},
     "output_type": "execute_result"
    }
   ],
   "source": [
    "curry.head()"
   ]
  },
  {
   "cell_type": "code",
   "execution_count": 332,
   "id": "29c71f93",
   "metadata": {},
   "outputs": [],
   "source": [
    "curry['feature_store'] = curry['feature_store'].apply(json.loads)\n",
    "feature_df_2 = curry['feature_store'].apply(pd.Series)\n",
    "curry = pd.concat([curry, feature_df_2], axis=1)\n",
    "curry.drop(columns=['feature_store','feature_store_top_5','ev','shot_taking'], inplace=True)"
   ]
  },
  {
   "cell_type": "code",
   "execution_count": 333,
   "id": "2558eb2c",
   "metadata": {},
   "outputs": [],
   "source": [
    "for col in features:\n",
    "    if col not in curry.columns:\n",
    "        curry[col] = 0\n"
   ]
  },
  {
   "cell_type": "code",
   "execution_count": 334,
   "id": "0edf1908",
   "metadata": {},
   "outputs": [],
   "source": [
    "curry['play_descriptors_parsed'] = curry['play_descriptors'].apply(ast.literal_eval)\n"
   ]
  },
  {
   "cell_type": "code",
   "execution_count": 335,
   "id": "f0daf706",
   "metadata": {},
   "outputs": [],
   "source": [
    "for desc in descriptor_features:\n",
    "    curry[desc] = curry['play_descriptors_parsed'].apply(lambda x: int(desc in x))"
   ]
  },
  {
   "cell_type": "code",
   "execution_count": 336,
   "id": "f8146f9b",
   "metadata": {},
   "outputs": [
    {
     "data": {
      "text/html": [
       "<div>\n",
       "<style scoped>\n",
       "    .dataframe tbody tr th:only-of-type {\n",
       "        vertical-align: middle;\n",
       "    }\n",
       "\n",
       "    .dataframe tbody tr th {\n",
       "        vertical-align: top;\n",
       "    }\n",
       "\n",
       "    .dataframe thead th {\n",
       "        text-align: right;\n",
       "    }\n",
       "</style>\n",
       "<table border=\"1\" class=\"dataframe\">\n",
       "  <thead>\n",
       "    <tr style=\"text-align: right;\">\n",
       "      <th></th>\n",
       "      <th>game_id</th>\n",
       "      <th>parent_play_id</th>\n",
       "      <th>play_id</th>\n",
       "      <th>team_id</th>\n",
       "      <th>shooter_id</th>\n",
       "      <th>period</th>\n",
       "      <th>minutes</th>\n",
       "      <th>seconds</th>\n",
       "      <th>made</th>\n",
       "      <th>action_type</th>\n",
       "      <th>...</th>\n",
       "      <th>transition</th>\n",
       "      <th>floater</th>\n",
       "      <th>hook</th>\n",
       "      <th>off_drive</th>\n",
       "      <th>pick_and_roll</th>\n",
       "      <th>post_up</th>\n",
       "      <th>pull_up</th>\n",
       "      <th>step_back</th>\n",
       "      <th>turnaround</th>\n",
       "      <th>play_descriptors_parsed</th>\n",
       "    </tr>\n",
       "  </thead>\n",
       "  <tbody>\n",
       "    <tr>\n",
       "      <th>0</th>\n",
       "      <td>338647</td>\n",
       "      <td>6</td>\n",
       "      <td>21</td>\n",
       "      <td>95600.0</td>\n",
       "      <td>1186791</td>\n",
       "      <td>1</td>\n",
       "      <td>11</td>\n",
       "      <td>0.0</td>\n",
       "      <td>0</td>\n",
       "      <td>2pt</td>\n",
       "      <td>...</td>\n",
       "      <td>0</td>\n",
       "      <td>0</td>\n",
       "      <td>0</td>\n",
       "      <td>1</td>\n",
       "      <td>0</td>\n",
       "      <td>0</td>\n",
       "      <td>0</td>\n",
       "      <td>0</td>\n",
       "      <td>0</td>\n",
       "      <td>[lay_up, in_paint, off_drive]</td>\n",
       "    </tr>\n",
       "    <tr>\n",
       "      <th>1</th>\n",
       "      <td>338647</td>\n",
       "      <td>28</td>\n",
       "      <td>61</td>\n",
       "      <td>95600.0</td>\n",
       "      <td>1186791</td>\n",
       "      <td>1</td>\n",
       "      <td>7</td>\n",
       "      <td>0.0</td>\n",
       "      <td>0</td>\n",
       "      <td>3pt</td>\n",
       "      <td>...</td>\n",
       "      <td>0</td>\n",
       "      <td>0</td>\n",
       "      <td>0</td>\n",
       "      <td>0</td>\n",
       "      <td>0</td>\n",
       "      <td>0</td>\n",
       "      <td>0</td>\n",
       "      <td>0</td>\n",
       "      <td>0</td>\n",
       "      <td>[jumpshot]</td>\n",
       "    </tr>\n",
       "    <tr>\n",
       "      <th>2</th>\n",
       "      <td>338647</td>\n",
       "      <td>56</td>\n",
       "      <td>110</td>\n",
       "      <td>95600.0</td>\n",
       "      <td>1186791</td>\n",
       "      <td>1</td>\n",
       "      <td>3</td>\n",
       "      <td>16.0</td>\n",
       "      <td>1</td>\n",
       "      <td>3pt</td>\n",
       "      <td>...</td>\n",
       "      <td>0</td>\n",
       "      <td>0</td>\n",
       "      <td>0</td>\n",
       "      <td>0</td>\n",
       "      <td>0</td>\n",
       "      <td>0</td>\n",
       "      <td>0</td>\n",
       "      <td>0</td>\n",
       "      <td>0</td>\n",
       "      <td>[jumpshot]</td>\n",
       "    </tr>\n",
       "    <tr>\n",
       "      <th>3</th>\n",
       "      <td>338647</td>\n",
       "      <td>71</td>\n",
       "      <td>138</td>\n",
       "      <td>95600.0</td>\n",
       "      <td>1186791</td>\n",
       "      <td>1</td>\n",
       "      <td>1</td>\n",
       "      <td>35.0</td>\n",
       "      <td>0</td>\n",
       "      <td>2pt</td>\n",
       "      <td>...</td>\n",
       "      <td>0</td>\n",
       "      <td>0</td>\n",
       "      <td>0</td>\n",
       "      <td>1</td>\n",
       "      <td>0</td>\n",
       "      <td>0</td>\n",
       "      <td>0</td>\n",
       "      <td>0</td>\n",
       "      <td>0</td>\n",
       "      <td>[lay_up, in_paint, off_drive]</td>\n",
       "    </tr>\n",
       "    <tr>\n",
       "      <th>4</th>\n",
       "      <td>338647</td>\n",
       "      <td>80</td>\n",
       "      <td>154</td>\n",
       "      <td>95600.0</td>\n",
       "      <td>1186791</td>\n",
       "      <td>1</td>\n",
       "      <td>0</td>\n",
       "      <td>31.7</td>\n",
       "      <td>1</td>\n",
       "      <td>2pt</td>\n",
       "      <td>...</td>\n",
       "      <td>0</td>\n",
       "      <td>0</td>\n",
       "      <td>0</td>\n",
       "      <td>1</td>\n",
       "      <td>1</td>\n",
       "      <td>0</td>\n",
       "      <td>0</td>\n",
       "      <td>0</td>\n",
       "      <td>0</td>\n",
       "      <td>[pick_and_roll, in_paint, lay_up, off_drive]</td>\n",
       "    </tr>\n",
       "    <tr>\n",
       "      <th>...</th>\n",
       "      <td>...</td>\n",
       "      <td>...</td>\n",
       "      <td>...</td>\n",
       "      <td>...</td>\n",
       "      <td>...</td>\n",
       "      <td>...</td>\n",
       "      <td>...</td>\n",
       "      <td>...</td>\n",
       "      <td>...</td>\n",
       "      <td>...</td>\n",
       "      <td>...</td>\n",
       "      <td>...</td>\n",
       "      <td>...</td>\n",
       "      <td>...</td>\n",
       "      <td>...</td>\n",
       "      <td>...</td>\n",
       "      <td>...</td>\n",
       "      <td>...</td>\n",
       "      <td>...</td>\n",
       "      <td>...</td>\n",
       "      <td>...</td>\n",
       "    </tr>\n",
       "    <tr>\n",
       "      <th>1443</th>\n",
       "      <td>1497326</td>\n",
       "      <td>217</td>\n",
       "      <td>402</td>\n",
       "      <td>95600.0</td>\n",
       "      <td>1186791</td>\n",
       "      <td>3</td>\n",
       "      <td>4</td>\n",
       "      <td>32.0</td>\n",
       "      <td>0</td>\n",
       "      <td>2pt</td>\n",
       "      <td>...</td>\n",
       "      <td>0</td>\n",
       "      <td>0</td>\n",
       "      <td>0</td>\n",
       "      <td>0</td>\n",
       "      <td>1</td>\n",
       "      <td>0</td>\n",
       "      <td>0</td>\n",
       "      <td>0</td>\n",
       "      <td>0</td>\n",
       "      <td>[pick_and_roll, jumpshot]</td>\n",
       "    </tr>\n",
       "    <tr>\n",
       "      <th>1444</th>\n",
       "      <td>1497326</td>\n",
       "      <td>264</td>\n",
       "      <td>487</td>\n",
       "      <td>95600.0</td>\n",
       "      <td>1186791</td>\n",
       "      <td>4</td>\n",
       "      <td>9</td>\n",
       "      <td>28.0</td>\n",
       "      <td>0</td>\n",
       "      <td>3pt</td>\n",
       "      <td>...</td>\n",
       "      <td>0</td>\n",
       "      <td>0</td>\n",
       "      <td>0</td>\n",
       "      <td>1</td>\n",
       "      <td>0</td>\n",
       "      <td>0</td>\n",
       "      <td>0</td>\n",
       "      <td>1</td>\n",
       "      <td>0</td>\n",
       "      <td>[step_back, jumpshot, off_drive]</td>\n",
       "    </tr>\n",
       "    <tr>\n",
       "      <th>1445</th>\n",
       "      <td>1497326</td>\n",
       "      <td>274</td>\n",
       "      <td>504</td>\n",
       "      <td>95600.0</td>\n",
       "      <td>1186791</td>\n",
       "      <td>4</td>\n",
       "      <td>7</td>\n",
       "      <td>42.0</td>\n",
       "      <td>1</td>\n",
       "      <td>3pt</td>\n",
       "      <td>...</td>\n",
       "      <td>0</td>\n",
       "      <td>0</td>\n",
       "      <td>0</td>\n",
       "      <td>0</td>\n",
       "      <td>1</td>\n",
       "      <td>0</td>\n",
       "      <td>0</td>\n",
       "      <td>0</td>\n",
       "      <td>0</td>\n",
       "      <td>[pick_and_roll, jumpshot]</td>\n",
       "    </tr>\n",
       "    <tr>\n",
       "      <th>1446</th>\n",
       "      <td>1497326</td>\n",
       "      <td>279</td>\n",
       "      <td>512</td>\n",
       "      <td>95600.0</td>\n",
       "      <td>1186791</td>\n",
       "      <td>4</td>\n",
       "      <td>6</td>\n",
       "      <td>35.0</td>\n",
       "      <td>0</td>\n",
       "      <td>2pt</td>\n",
       "      <td>...</td>\n",
       "      <td>0</td>\n",
       "      <td>0</td>\n",
       "      <td>0</td>\n",
       "      <td>0</td>\n",
       "      <td>0</td>\n",
       "      <td>0</td>\n",
       "      <td>0</td>\n",
       "      <td>0</td>\n",
       "      <td>0</td>\n",
       "      <td>[jumpshot]</td>\n",
       "    </tr>\n",
       "    <tr>\n",
       "      <th>1447</th>\n",
       "      <td>1497326</td>\n",
       "      <td>302</td>\n",
       "      <td>548</td>\n",
       "      <td>95600.0</td>\n",
       "      <td>1186791</td>\n",
       "      <td>4</td>\n",
       "      <td>3</td>\n",
       "      <td>27.0</td>\n",
       "      <td>1</td>\n",
       "      <td>3pt</td>\n",
       "      <td>...</td>\n",
       "      <td>0</td>\n",
       "      <td>0</td>\n",
       "      <td>0</td>\n",
       "      <td>0</td>\n",
       "      <td>0</td>\n",
       "      <td>0</td>\n",
       "      <td>0</td>\n",
       "      <td>1</td>\n",
       "      <td>0</td>\n",
       "      <td>[step_back, jumpshot]</td>\n",
       "    </tr>\n",
       "  </tbody>\n",
       "</table>\n",
       "<p>1448 rows × 159 columns</p>\n",
       "</div>"
      ],
      "text/plain": [
       "      game_id  parent_play_id  play_id  team_id  shooter_id  period  minutes  \\\n",
       "0      338647               6       21  95600.0     1186791       1       11   \n",
       "1      338647              28       61  95600.0     1186791       1        7   \n",
       "2      338647              56      110  95600.0     1186791       1        3   \n",
       "3      338647              71      138  95600.0     1186791       1        1   \n",
       "4      338647              80      154  95600.0     1186791       1        0   \n",
       "...       ...             ...      ...      ...         ...     ...      ...   \n",
       "1443  1497326             217      402  95600.0     1186791       3        4   \n",
       "1444  1497326             264      487  95600.0     1186791       4        9   \n",
       "1445  1497326             274      504  95600.0     1186791       4        7   \n",
       "1446  1497326             279      512  95600.0     1186791       4        6   \n",
       "1447  1497326             302      548  95600.0     1186791       4        3   \n",
       "\n",
       "      seconds  made action_type  ... transition  floater  hook  off_drive  \\\n",
       "0         0.0     0         2pt  ...          0        0     0          1   \n",
       "1         0.0     0         3pt  ...          0        0     0          0   \n",
       "2        16.0     1         3pt  ...          0        0     0          0   \n",
       "3        35.0     0         2pt  ...          0        0     0          1   \n",
       "4        31.7     1         2pt  ...          0        0     0          1   \n",
       "...       ...   ...         ...  ...        ...      ...   ...        ...   \n",
       "1443     32.0     0         2pt  ...          0        0     0          0   \n",
       "1444     28.0     0         3pt  ...          0        0     0          1   \n",
       "1445     42.0     1         3pt  ...          0        0     0          0   \n",
       "1446     35.0     0         2pt  ...          0        0     0          0   \n",
       "1447     27.0     1         3pt  ...          0        0     0          0   \n",
       "\n",
       "      pick_and_roll post_up pull_up step_back turnaround  \\\n",
       "0                 0       0       0         0          0   \n",
       "1                 0       0       0         0          0   \n",
       "2                 0       0       0         0          0   \n",
       "3                 0       0       0         0          0   \n",
       "4                 1       0       0         0          0   \n",
       "...             ...     ...     ...       ...        ...   \n",
       "1443              1       0       0         0          0   \n",
       "1444              0       0       0         1          0   \n",
       "1445              1       0       0         0          0   \n",
       "1446              0       0       0         0          0   \n",
       "1447              0       0       0         1          0   \n",
       "\n",
       "                           play_descriptors_parsed  \n",
       "0                    [lay_up, in_paint, off_drive]  \n",
       "1                                       [jumpshot]  \n",
       "2                                       [jumpshot]  \n",
       "3                    [lay_up, in_paint, off_drive]  \n",
       "4     [pick_and_roll, in_paint, lay_up, off_drive]  \n",
       "...                                            ...  \n",
       "1443                     [pick_and_roll, jumpshot]  \n",
       "1444              [step_back, jumpshot, off_drive]  \n",
       "1445                     [pick_and_roll, jumpshot]  \n",
       "1446                                    [jumpshot]  \n",
       "1447                         [step_back, jumpshot]  \n",
       "\n",
       "[1448 rows x 159 columns]"
      ]
     },
     "execution_count": 336,
     "metadata": {},
     "output_type": "execute_result"
    }
   ],
   "source": [
    "curry"
   ]
  },
  {
   "cell_type": "code",
   "execution_count": 532,
   "id": "5a650228",
   "metadata": {},
   "outputs": [],
   "source": [
    "preds = model.predict_proba(curry[features].drop(columns=['made','contest_score'], errors='ignore'))"
   ]
  },
  {
   "cell_type": "code",
   "execution_count": 533,
   "id": "fd1ce023",
   "metadata": {},
   "outputs": [],
   "source": [
    "curry['eFG%'] = preds[:, 1]"
   ]
  },
  {
   "cell_type": "code",
   "execution_count": 534,
   "id": "205395e9",
   "metadata": {},
   "outputs": [
    {
     "data": {
      "text/plain": [
       "action_type\n",
       "2pt    0.495651\n",
       "3pt    0.403678\n",
       "Name: eFG%, dtype: float32"
      ]
     },
     "execution_count": 534,
     "metadata": {},
     "output_type": "execute_result"
    }
   ],
   "source": [
    "curry.groupby('action_type')['eFG%'].mean()"
   ]
  },
  {
   "cell_type": "code",
   "execution_count": 535,
   "id": "099cfb9b",
   "metadata": {},
   "outputs": [
    {
     "data": {
      "text/plain": [
       "action_type\n",
       "2pt    0.541436\n",
       "3pt    0.419890\n",
       "Name: made, dtype: float64"
      ]
     },
     "execution_count": 535,
     "metadata": {},
     "output_type": "execute_result"
    }
   ],
   "source": [
    "curry.groupby('action_type')['made'].mean()"
   ]
  },
  {
   "cell_type": "code",
   "execution_count": 536,
   "id": "30ca4945",
   "metadata": {},
   "outputs": [
    {
     "data": {
      "text/plain": [
       "made\n",
       "0    0.421150\n",
       "1    0.501841\n",
       "Name: eFG%, dtype: float32"
      ]
     },
     "execution_count": 536,
     "metadata": {},
     "output_type": "execute_result"
    }
   ],
   "source": [
    "curry.groupby('made')['eFG%'].mean()"
   ]
  },
  {
   "cell_type": "code",
   "execution_count": 537,
   "id": "3a6ba427",
   "metadata": {},
   "outputs": [
    {
     "data": {
      "text/plain": [
       "0.461161"
      ]
     },
     "execution_count": 537,
     "metadata": {},
     "output_type": "execute_result"
    }
   ],
   "source": [
    "curry['eFG%'].mean()"
   ]
  },
  {
   "cell_type": "code",
   "execution_count": 538,
   "id": "a9b4a689",
   "metadata": {},
   "outputs": [
    {
     "data": {
      "text/plain": [
       "0.4958563535911602"
      ]
     },
     "execution_count": 538,
     "metadata": {},
     "output_type": "execute_result"
    }
   ],
   "source": [
    "curry['made'].mean()"
   ]
  },
  {
   "cell_type": "code",
   "execution_count": 345,
   "id": "b4f929d7",
   "metadata": {},
   "outputs": [
    {
     "data": {
      "text/plain": [
       "['alley_oop',\n",
       " 'catch_and_shoot',\n",
       " 'dunk',\n",
       " 'floater',\n",
       " 'hook',\n",
       " 'in_paint',\n",
       " 'jumpshot',\n",
       " 'lay_up',\n",
       " 'off_cut',\n",
       " 'off_drive',\n",
       " 'pick_and_roll',\n",
       " 'post_up',\n",
       " 'pull_up',\n",
       " 'reverse',\n",
       " 'step_back',\n",
       " 'tip_in',\n",
       " 'transition',\n",
       " 'turnaround']"
      ]
     },
     "execution_count": 345,
     "metadata": {},
     "output_type": "execute_result"
    }
   ],
   "source": [
    "descriptor_features"
   ]
  },
  {
   "cell_type": "code",
   "execution_count": 360,
   "id": "0e01f6e7",
   "metadata": {},
   "outputs": [
    {
     "data": {
      "text/html": [
       "<div>\n",
       "<style scoped>\n",
       "    .dataframe tbody tr th:only-of-type {\n",
       "        vertical-align: middle;\n",
       "    }\n",
       "\n",
       "    .dataframe tbody tr th {\n",
       "        vertical-align: top;\n",
       "    }\n",
       "\n",
       "    .dataframe thead th {\n",
       "        text-align: right;\n",
       "    }\n",
       "</style>\n",
       "<table border=\"1\" class=\"dataframe\">\n",
       "  <thead>\n",
       "    <tr style=\"text-align: right;\">\n",
       "      <th></th>\n",
       "      <th>game_datetime_utc</th>\n",
       "      <th>action_type</th>\n",
       "      <th>play_descriptors</th>\n",
       "      <th>game_name</th>\n",
       "      <th>eFG%</th>\n",
       "      <th>period</th>\n",
       "      <th>minutes</th>\n",
       "      <th>seconds</th>\n",
       "    </tr>\n",
       "  </thead>\n",
       "  <tbody>\n",
       "    <tr>\n",
       "      <th>272</th>\n",
       "      <td>01-02-2024</td>\n",
       "      <td>3pt</td>\n",
       "      <td>[\"catch_and_shoot\", \"jumpshot\"]</td>\n",
       "      <td>Utah Jazz vs Dallas Mavericks</td>\n",
       "      <td>0.079807</td>\n",
       "      <td>4</td>\n",
       "      <td>9</td>\n",
       "      <td>57.0</td>\n",
       "    </tr>\n",
       "    <tr>\n",
       "      <th>288</th>\n",
       "      <td>01-06-2024</td>\n",
       "      <td>2pt</td>\n",
       "      <td>[\"pick_and_roll\", \"turnaround\", \"jumpshot\"]</td>\n",
       "      <td>Dallas Mavericks vs Portland Trail Blazers</td>\n",
       "      <td>0.056747</td>\n",
       "      <td>1</td>\n",
       "      <td>9</td>\n",
       "      <td>27.0</td>\n",
       "    </tr>\n",
       "    <tr>\n",
       "      <th>915</th>\n",
       "      <td>03-27-2024</td>\n",
       "      <td>3pt</td>\n",
       "      <td>[\"pick_and_roll\", \"jumpshot\"]</td>\n",
       "      <td>Sacramento Kings vs Dallas Mavericks</td>\n",
       "      <td>0.095081</td>\n",
       "      <td>3</td>\n",
       "      <td>10</td>\n",
       "      <td>18.0</td>\n",
       "    </tr>\n",
       "    <tr>\n",
       "      <th>1113</th>\n",
       "      <td>04-27-2024</td>\n",
       "      <td>3pt</td>\n",
       "      <td>[\"jumpshot\", \"off_drive\"]</td>\n",
       "      <td>Dallas Mavericks vs Los Angeles Clippers</td>\n",
       "      <td>0.028600</td>\n",
       "      <td>4</td>\n",
       "      <td>8</td>\n",
       "      <td>1.0</td>\n",
       "    </tr>\n",
       "    <tr>\n",
       "      <th>1288</th>\n",
       "      <td>05-25-2024</td>\n",
       "      <td>3pt</td>\n",
       "      <td>[\"jumpshot\"]</td>\n",
       "      <td>Minnesota Timberwolves vs Dallas Mavericks</td>\n",
       "      <td>0.090078</td>\n",
       "      <td>4</td>\n",
       "      <td>10</td>\n",
       "      <td>23.0</td>\n",
       "    </tr>\n",
       "  </tbody>\n",
       "</table>\n",
       "</div>"
      ],
      "text/plain": [
       "     game_datetime_utc action_type  \\\n",
       "272         01-02-2024         3pt   \n",
       "288         01-06-2024         2pt   \n",
       "915         03-27-2024         3pt   \n",
       "1113        04-27-2024         3pt   \n",
       "1288        05-25-2024         3pt   \n",
       "\n",
       "                                 play_descriptors  \\\n",
       "272               [\"catch_and_shoot\", \"jumpshot\"]   \n",
       "288   [\"pick_and_roll\", \"turnaround\", \"jumpshot\"]   \n",
       "915                 [\"pick_and_roll\", \"jumpshot\"]   \n",
       "1113                    [\"jumpshot\", \"off_drive\"]   \n",
       "1288                                 [\"jumpshot\"]   \n",
       "\n",
       "                                       game_name      eFG%  period  minutes  \\\n",
       "272                Utah Jazz vs Dallas Mavericks  0.079807       4        9   \n",
       "288   Dallas Mavericks vs Portland Trail Blazers  0.056747       1        9   \n",
       "915         Sacramento Kings vs Dallas Mavericks  0.095081       3       10   \n",
       "1113    Dallas Mavericks vs Los Angeles Clippers  0.028600       4        8   \n",
       "1288  Minnesota Timberwolves vs Dallas Mavericks  0.090078       4       10   \n",
       "\n",
       "      seconds  \n",
       "272      57.0  \n",
       "288      27.0  \n",
       "915      18.0  \n",
       "1113      1.0  \n",
       "1288     23.0  "
      ]
     },
     "execution_count": 360,
     "metadata": {},
     "output_type": "execute_result"
    }
   ],
   "source": [
    "curry[(curry['eFG%'] < 0.10) * (curry['made'] == 1)][['game_datetime_utc','action_type','play_descriptors','game_name','eFG%','period','minutes','seconds']]"
   ]
  },
  {
   "cell_type": "code",
   "execution_count": 349,
   "id": "0e35abe0",
   "metadata": {},
   "outputs": [
    {
     "data": {
      "text/plain": [
       "<Axes: xlabel='eFG%', ylabel='Count'>"
      ]
     },
     "execution_count": 349,
     "metadata": {},
     "output_type": "execute_result"
    },
    {
     "data": {
      "image/png": "[encoded data removed]",
      "text/plain": [
       "<Figure size 640x480 with 1 Axes>"
      ]
     },
     "metadata": {},
     "output_type": "display_data"
    }
   ],
   "source": [
    "sns.histplot(curry['eFG%'], bins=30, kde=True)"
   ]
  },
  {
   "cell_type": "code",
   "execution_count": 669,
   "id": "968ac4c4",
   "metadata": {},
   "outputs": [],
   "source": [
    "from matplotlib.patches import Circle, Rectangle, Arc\n",
    "import matplotlib.pyplot as plt\n",
    "\n",
    "\n",
    "\n",
    "def create_nba_full_court(ax=None, court_color='#dfbb85',\n",
    "                          lw=3, lines_color='black', lines_alpha=0.5,\n",
    "                          paint_fill='blue', paint_alpha=0.4,\n",
    "                          inner_arc=False):\n",
    "    if ax is None:\n",
    "        ax = plt.gca()\n",
    "\n",
    "    # Create Pathes for Court Lines\n",
    "    center_circle = Circle((94/2, 50/2), 6,\n",
    "                           linewidth=lw, color=lines_color, lw=lw,\n",
    "                           fill=False, alpha=lines_alpha)\n",
    "    hoop_left = Circle((5.25, 50/2), 1.5 / 2,\n",
    "                       linewidth=lw, color=lines_color, lw=lw,\n",
    "                       fill=False, alpha=lines_alpha)\n",
    "    hoop_right = Circle((94-5.25, 50/2), 1.5 / 2,\n",
    "                        linewidth=lw, color=lines_color, lw=lw,\n",
    "                        fill=False, alpha=lines_alpha)\n",
    "\n",
    "    # Paint: 16 feet wide, 19 feet from baseline\n",
    "    left_paint = Rectangle((0, 50/2 - 8), 19, 16,\n",
    "                           fill=paint_fill, alpha=paint_alpha,\n",
    "                           lw=lw, edgecolor=None)\n",
    "    right_paint = Rectangle((94-19, 50/2 - 8), 19, 16,\n",
    "                            fill=paint_fill, alpha=paint_alpha,\n",
    "                            lw=lw, edgecolor=None)\n",
    "\n",
    "    left_paint_border = Rectangle((0, 50/2 - 8), 19, 16,\n",
    "                                  fill=False, alpha=lines_alpha,\n",
    "                                  lw=lw, edgecolor=lines_color)\n",
    "    right_paint_border = Rectangle((94-19, 50/2 - 8), 19, 16,\n",
    "                                   fill=False, alpha=lines_alpha,\n",
    "                                   lw=lw, edgecolor=lines_color)\n",
    "\n",
    "    # Arcs at top of paint (6ft radius)\n",
    "    left_arc = Arc((19, 50/2), 12, 12, theta1=-90, theta2=90,\n",
    "                   color=lines_color, lw=lw, alpha=lines_alpha)\n",
    "    right_arc = Arc((94-19, 50/2), 12, 12, theta1=90, theta2=-90,\n",
    "                    color=lines_color, lw=lw, alpha=lines_alpha)\n",
    "\n",
    "    # Lane markers (using standard spacing — could be customized more)\n",
    "    # You can replicate lane markers symmetrically like before\n",
    "\n",
    "    # Three-point lines (23.75 ft from basket, 22 ft in corners)\n",
    "    corner_y = 3  # 22 ft from hoop to corner along baseline\n",
    "    arc_radius = 23.75\n",
    "    arc_diameter = arc_radius * 2\n",
    "    three_pt_left = Arc((5.25, 50/2), arc_diameter, arc_diameter,\n",
    "                        theta1=-69, theta2=69,\n",
    "                        color=lines_color, lw=lw, alpha=lines_alpha)\n",
    "    three_pt_right = Arc((94-5.25, 50/2), arc_diameter, arc_diameter,\n",
    "                         theta1=180-69, theta2=180+69,\n",
    "                         color=lines_color, lw=lw, alpha=lines_alpha)\n",
    "\n",
    "    # 22-foot corner line (~14 feet from baseline to break point)\n",
    "    ax.plot((0, 14), (corner_y, corner_y), color=lines_color, lw=lw, alpha=lines_alpha)\n",
    "    ax.plot((0, 14), (50-corner_y, 50-corner_y), color=lines_color, lw=lw, alpha=lines_alpha)\n",
    "    ax.plot((94-14, 94), (corner_y, corner_y), color=lines_color, lw=lw, alpha=lines_alpha)\n",
    "    ax.plot((94-14, 94), (50-corner_y, 50-corner_y), color=lines_color, lw=lw, alpha=lines_alpha)\n",
    "\n",
    "    # Add Patches\n",
    "    ax.add_patch(left_paint)\n",
    "    ax.add_patch(right_paint)\n",
    "    ax.add_patch(left_paint_border)\n",
    "    ax.add_patch(right_paint_border)\n",
    "    ax.add_patch(center_circle)\n",
    "    ax.add_patch(hoop_left)\n",
    "    ax.add_patch(hoop_right)\n",
    "    ax.add_patch(left_arc)\n",
    "    ax.add_patch(right_arc)\n",
    "    ax.add_patch(three_pt_left)\n",
    "    ax.add_patch(three_pt_right)\n",
    "\n",
    "    if inner_arc:\n",
    "        left_inner_arc = Arc((19, 50/2), 12, 12, theta1=90, theta2=-90,\n",
    "                             color=lines_color, lw=lw, alpha=lines_alpha, ls='--')\n",
    "        right_inner_arc = Arc((94-19, 50/2), 12, 12, theta1=-90, theta2=90,\n",
    "                              color=lines_color, lw=lw, alpha=lines_alpha, ls='--')\n",
    "        ax.add_patch(left_inner_arc)\n",
    "        ax.add_patch(right_inner_arc)\n",
    "\n",
    "    # Restricted area (4 ft radius from center of basket)\n",
    "    restricted_left = Arc((5.25, 50/2), 8, 8, theta1=-90, theta2=90,\n",
    "                          color=lines_color, lw=lw, alpha=lines_alpha)\n",
    "    restricted_right = Arc((94-5.25, 50/2), 8, 8, theta1=90, theta2=-90,\n",
    "                           color=lines_color, lw=lw, alpha=lines_alpha)\n",
    "    ax.add_patch(restricted_left)\n",
    "    ax.add_patch(restricted_right)\n",
    "\n",
    "    # Backboards\n",
    "    ax.plot((4, 4), ((50/2) - 3, (50/2) + 3), color=lines_color, lw=lw*1.5, alpha=lines_alpha)\n",
    "    ax.plot((94-4, 94-4), ((50/2) - 3, (50/2) + 3), color=lines_color, lw=lw*1.5, alpha=lines_alpha)\n",
    "    ax.plot((4, 4.6), (50/2, 50/2), color=lines_color, lw=lw, alpha=lines_alpha)\n",
    "    ax.plot((94-4, 94-4.6), (50/2, 50/2), color=lines_color, lw=lw, alpha=lines_alpha)\n",
    "\n",
    "    # Halfcourt line\n",
    "    ax.axvline(94/2, color=lines_color, lw=lw, alpha=lines_alpha)\n",
    "\n",
    "    # Court border\n",
    "    border = Rectangle((0.3, 0.3), 94 - 0.4, 50 - 0.4, fill=False, lw=3,\n",
    "                       color='black', alpha=lines_alpha)\n",
    "    ax.add_patch(border)\n",
    "\n",
    "    # Plot Limit\n",
    "    ax.set_xlim(0, 94)\n",
    "    ax.set_ylim(0, 50)\n",
    "    ax.set_facecolor(court_color)\n",
    "    ax.set_xticks([])\n",
    "    ax.set_yticks([])\n",
    "    ax.set_xlabel('')\n",
    "    return ax\n"
   ]
  },
  {
   "cell_type": "code",
   "execution_count": 694,
   "id": "0ead14c3",
   "metadata": {},
   "outputs": [
    {
     "data": {
      "text/plain": [
       "['minutes',\n",
       " 'seconds',\n",
       " 'spacing',\n",
       " 'Defenders in Paint',\n",
       " 'Shooter in the Paint',\n",
       " 'Closest Defender Behind',\n",
       " 'Closest Defender Inside',\n",
       " 'Closest Defender Blocking',\n",
       " 'Shooter in Restricted Area',\n",
       " 'Second-Closest Defender Behind',\n",
       " 'Second-Closest Defender Inside',\n",
       " 'Harmonic Mean Defender Distance',\n",
       " 'Average Defender Distance (Feet)',\n",
       " 'Defenders in the Restricted Area',\n",
       " 'Second-Closest Defender Blocking',\n",
       " 'Number of Defenders Closer to the Basket',\n",
       " 'Number of Teammates in the Restricted Area',\n",
       " 'Cosine of the Angle with the Closest Defender',\n",
       " 'Cosine of the Angle with the Second-Closest Defender',\n",
       " \"Height of the Closest Defender's Bounding Box (Pixels)\",\n",
       " \"Height of the Third-Closest Defender's Bounding Box (Pixels)\",\n",
       " \"Height of the Second-Closest Defender's Bounding Box (Pixels)\",\n",
       " 'Shot Distance (ft.)',\n",
       " 'Distance to the Closest Defender (Feet)',\n",
       " 'Distance to the Second-Closest Defender (Feet)',\n",
       " 'pts',\n",
       " 'alley_oop',\n",
       " 'catch_and_shoot',\n",
       " 'dunk',\n",
       " 'floater',\n",
       " 'in_paint',\n",
       " 'jumpshot',\n",
       " 'lay_up',\n",
       " 'off_cut',\n",
       " 'off_drive',\n",
       " 'pick_and_roll',\n",
       " 'post_up',\n",
       " 'reverse',\n",
       " 'step_back',\n",
       " 'tip_in',\n",
       " 'transition',\n",
       " 'hook',\n",
       " 'pull_up',\n",
       " 'turnaround']"
      ]
     },
     "execution_count": 694,
     "metadata": {},
     "output_type": "execute_result"
    }
   ],
   "source": [
    "features"
   ]
  },
  {
   "cell_type": "code",
   "execution_count": 695,
   "id": "6fb44edd",
   "metadata": {},
   "outputs": [],
   "source": [
    "import pickle\n",
    "pickle.dump(model, open('xFG_model.pkl', 'wb'))"
   ]
  },
  {
   "cell_type": "code",
   "execution_count": null,
   "id": "adf7efe5",
   "metadata": {},
   "outputs": [],
   "source": []
  }
 ],
 "metadata": {
  "kernelspec": {
   "display_name": "Python 3",
   "language": "python",
   "name": "python3"
  },
  "language_info": {
   "codemirror_mode": {
    "name": "ipython",
    "version": 3
   },
   "file_extension": ".py",
   "mimetype": "text/x-python",
   "name": "python",
   "nbconvert_exporter": "python",
   "pygments_lexer": "ipython3",
   "version": "3.13.0"
  }
 },
 "nbformat": 4,
 "nbformat_minor": 5
}
